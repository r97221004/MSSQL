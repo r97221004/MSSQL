{
 "cells": [
  {
   "cell_type": "markdown",
   "id": "64e415cb",
   "metadata": {},
   "source": [
    "# Stored Procedure 預存程序"
   ]
  },
  {
   "cell_type": "raw",
   "id": "cd71312c",
   "metadata": {},
   "source": [
    "- 是一個 T-SQL 陳述式之集合\n",
    "- 有點類似其他語言中的 函數(function) 或是 方法(method, subroutine)\n",
    "- 可以透過呼叫這些預存程序之名稱來執行對應陳述式集合(命令集)"
   ]
  },
  {
   "cell_type": "raw",
   "id": "212441c0",
   "metadata": {},
   "source": [
    "Stored Procedure 優點:\n",
    "    \n",
    "- 為資料庫物件(DataBase Objects)，存置於 DB 中\n",
    "- 將方法功能進行封裝\n",
    "- 可以確保功能是能夠跨應用程式做調用呼叫的\n",
    "- 比起常規查詢來的更有效率! 試想假若商業邏輯因過於複雜使 SQL 陳述過長又龐大，這時若仍直接 ado.net 傳送一大串 SQL 就會導致網路傳輸量過\n",
    "  多也會較耗費時間。但若改為 SP 則用戶端 (client) 只會傳遞 SP Name 給 SQL Server 就可節省傳輸量。"
   ]
  },
  {
   "cell_type": "markdown",
   "id": "2da391c9",
   "metadata": {},
   "source": [
    "<img src='img/1.png'>"
   ]
  },
  {
   "cell_type": "markdown",
   "id": "b1eca8e1",
   "metadata": {},
   "source": [
    "# 為何要學習  Stored Procedure 這項技術"
   ]
  },
  {
   "cell_type": "raw",
   "id": "532d7bb0",
   "metadata": {},
   "source": [
    "在大型企業公司中 多半系統是伴隨著 DB (可視為系統命脈) 做連動性交互，也因此時常會遇到 DB 之間可能存有同一時間在多個大系統做類似 DB 操作的程式運行。功能可能一樣，也可能不一樣。有的甚至是像打棒球或是接力賽交接棒、傳球之概念般。可能做 DB 操作回傳之結果會從 A 系統做完一些處裡再傳給 B 系統再跑到 C 系統去.....更可能反敘倒回來。\n",
    "\n",
    "所以會有不只一個應用程式(系統)去對 DB 資料表做搜尋、更新.....等等。由上述示意圖可以看到黃色方框可以理解為每個不同部門或者單位各自所掌管之系統，可能都有存在一段程式是對 DB 中做更新的操作。\n",
    "\n",
    "假設四個不同應用系統都在 Local 端，所運行的這區塊程式功能都是做一樣的事情時，當一有功能調整，此時你會有需要對四個地方去做同樣調整，共需要做四次更改，這是違背開發上降低重複動作設計觀念的。\n",
    "\n",
    "預存程序之優點就在於可以集中控管做功能代碼修改之存取處裡，功能版本統一更新(一次到位)，Stored Procedure 就是一種被各個不同應用程式呼叫的一個 T-SQL 執行命令集。"
   ]
  },
  {
   "cell_type": "markdown",
   "id": "5d03ab79",
   "metadata": {},
   "source": [
    "# 建立  Stored Procedure"
   ]
  },
  {
   "cell_type": "raw",
   "id": "d1550e4f",
   "metadata": {},
   "source": [
    "假設我們目前要做的一串命令集如下，會有極高重複使用可能，所以我們建立了 ProdOrders 的預存程式。可以在 可程式性 --> 預存程序 --> 系統預存程序中找到。"
   ]
  },
  {
   "cell_type": "code",
   "execution_count": null,
   "id": "dab397d2",
   "metadata": {},
   "outputs": [],
   "source": [
    "CREATE PROC ProdOrders\n",
    "AS\n",
    "SELECT Position, sum(AnnualSalary) as TotalSalary\n",
    "FROM Employee\n",
    "WHERE Address = 'taipei'\n",
    "GROUP BY Position\n",
    "GO"
   ]
  },
  {
   "cell_type": "markdown",
   "id": "8c0a1d9a",
   "metadata": {},
   "source": [
    "# 執行 Stored Procedure"
   ]
  },
  {
   "cell_type": "markdown",
   "id": "83ac55e3",
   "metadata": {},
   "source": [
    "### 方法一: EXEC 預存程序名"
   ]
  },
  {
   "cell_type": "code",
   "execution_count": null,
   "id": "1a061e73",
   "metadata": {},
   "outputs": [],
   "source": [
    "EXEC ProdOrders"
   ]
  },
  {
   "cell_type": "markdown",
   "id": "e7b23d3b",
   "metadata": {},
   "source": [
    "### 方法二: 直接輸入預存程序名"
   ]
  },
  {
   "cell_type": "code",
   "execution_count": null,
   "id": "859ad202",
   "metadata": {},
   "outputs": [],
   "source": [
    "ProdOrders"
   ]
  },
  {
   "cell_type": "markdown",
   "id": "761b288a",
   "metadata": {},
   "source": [
    "# 修改 Stored Procedure"
   ]
  },
  {
   "cell_type": "raw",
   "id": "e6ed5ec9",
   "metadata": {},
   "source": [
    "假設今天要更改為其他 Address 時，我們就將 CREATE 改成  ALTER 之後更改再執行即可。"
   ]
  },
  {
   "cell_type": "code",
   "execution_count": null,
   "id": "95ef18e7",
   "metadata": {},
   "outputs": [],
   "source": [
    "ALTER PROC ProdOrders\n",
    "AS\n",
    "SELECT Position, sum(AnnualSalary) as TotalSalary\n",
    "FROM Employee\n",
    "WHERE Address = 'taichung'\n",
    "GROUP BY Position\n",
    "GO"
   ]
  },
  {
   "cell_type": "markdown",
   "id": "904ce0c9",
   "metadata": {},
   "source": [
    "# 預存程序傳入參數"
   ]
  },
  {
   "cell_type": "raw",
   "id": "d1f12bf9",
   "metadata": {},
   "source": [
    "如此一來我就可以更為彈性透過變數傳入去指定對應更新。"
   ]
  },
  {
   "cell_type": "code",
   "execution_count": null,
   "id": "e6fe2dcc",
   "metadata": {},
   "outputs": [],
   "source": [
    "CREATE PROC ProdOrdersID\n",
    "(\n",
    "@Address varchar(10)\n",
    ")\n",
    "AS\n",
    "SELECT Position, sum(AnnualSalary) as TotalSalary\n",
    "FROM Employee\n",
    "WHERE Address = @Address\n",
    "GROUP BY Position\n",
    "GO"
   ]
  },
  {
   "cell_type": "code",
   "execution_count": null,
   "id": "7a347cce",
   "metadata": {},
   "outputs": [],
   "source": [
    "EXEC ProdOrdersID \"taipei\""
   ]
  },
  {
   "cell_type": "markdown",
   "id": "ee88ae6d",
   "metadata": {},
   "source": [
    "# 建立 sp 的細節"
   ]
  },
  {
   "cell_type": "raw",
   "id": "4412665b",
   "metadata": {},
   "source": [
    "stored procedure 命名勿使用 sp_ 開頭，因為使用 sp_ 開頭的預設都會先至 SQL Server 的 master database 搜尋完後，才會搜尋現階段連線的 database，不僅耗時更容易有機會出錯 (比方跟 master db 存有的 sp 撞名)。"
   ]
  },
  {
   "cell_type": "code",
   "execution_count": null,
   "id": "b940a4ff",
   "metadata": {},
   "outputs": [],
   "source": []
  },
  {
   "cell_type": "code",
   "execution_count": null,
   "id": "bb6c8f92",
   "metadata": {},
   "outputs": [],
   "source": []
  },
  {
   "cell_type": "markdown",
   "id": "3adfd340",
   "metadata": {},
   "source": [
    "### 範例 1 - 曲線"
   ]
  },
  {
   "cell_type": "code",
   "execution_count": null,
   "id": "2937d76f",
   "metadata": {},
   "outputs": [],
   "source": [
    "ALTER PROCEDURE   [dbo].[tag_battery]\n",
    "\t-- Add the parameters for the stored procedure here\n",
    "\t@begin date,\n",
    "\t@end date,\n",
    "\t@id nvarchar(5),\n",
    "\t@begin_h nvarchar(2)  = '0',\n",
    "\t@end_h nvarchar(2)  = '23'\n",
    "AS\n",
    "BEGIN\n",
    "\t-- SET NOCOUNT ON added to prevent extra result sets from\n",
    "\t-- interfering with SELECT statements.\n",
    "\tSET NOCOUNT ON;\n",
    "\n",
    "    -- Insert statements for procedure here\n",
    "\tdeclare @year    nvarchar(5) = DATEPART(YEAR, @begin)\n",
    "\tdeclare @begin_m nvarchar(3) = DATEPART(MONTH, @begin)\n",
    "\tdeclare @begin_d nvarchar(3) = DATEPART(DAY, @begin)\n",
    "\tdeclare @end_m   nvarchar(3) = DATEPART(MONTH, @end)\n",
    "\tdeclare @end_d   nvarchar(3) = DATEPART(DAY, @end)\n",
    "\n",
    "\tset @id = ltrim(rtrim(@id))\n",
    "\n",
    "\tdeclare @gpstag table (dt datetime, voltage int, gsm_sen int, mv int, ma int, mah int )\n",
    "\tdeclare @tag_exits char = case when EXISTS (SELECT * FROM INFORMATION_SCHEMA.TABLES WHERE TABLE_NAME = 'rf_message_tag_00'+ @id+'_' + @year) then '1' else '0' end\n",
    "\n",
    "\tdeclare @sql as nvarchar(max) \n",
    "    \n",
    "#     {'begin_gpsdate': '20230301', 'end_gpsdate': '20230316', 'begin_gpstime': '000000', 'end_gpstime': '235959'}\n",
    "\t\n",
    "    declare @begin_gpsdate nvarchar(10) = convert(varchar, convert(date,concat(@year,'/',@begin_m,'/',@begin_d)), 112)\n",
    "\tdeclare @end_gpsdate nvarchar(10) = convert(varchar, convert(date,concat(@year,'/',@end_m,'/',@end_d)), 112)\n",
    "\tdeclare @begin_gpstime nvarchar(10) = replace(convert(varchar, convert(time, concat(@begin_h,':0:0')), 108),':','')\n",
    "\tdeclare @end_gpstime nvarchar(10) = replace(convert(varchar, convert(time, concat(@end_h,':59:59')), 108),':','')\n",
    "\n",
    "    \n",
    "\tset @sql = case when @tag_exits ='1' then \n",
    "\t\t'select * from (\n",
    "\t\t\tselect convert(datetime, concat(\n",
    "\t\t\tdatepart(YEAR, dt), ''/'' ,\n",
    "\t\t\tdatepart(MONTH, dt), ''/'' ,\n",
    "\t\t\tdatepart(DAY, dt)  , '' '',\n",
    "\t\t\tdatepart(HOUR, dt) , '':'',\n",
    "\t\t\t(datepart(MINUTE, dt) / 10), ''0'')) as dt , avg(voltage) as voltage, avg(gsm_sen) as gsm_sen, avg(mv) as mv, avg(ma) as ma, avg(mah) as mah\n",
    "\t\t\tfrom (\n",
    "\t\t\t\tselect convert(datetime,\n",
    "\t\t\t\t\tconcat(\n",
    "\t\t\t\t\t\tgpsdate,'' '', \n",
    "\t\t\t\t\t\tsubstring(gpstime, 1,2),'':'',\n",
    "\t\t\t\t\t\tsubstring(gpstime, 3,2),'':'',\n",
    "\t\t\t\t\t\tsubstring(gpstime, 5,2))\n",
    "\t\t\t\t) as dt, voltage, gsm_sen, mv, ma, mah \n",
    "\t\t\t\tfrom rf_message_gps_00' + @id +'_' + @year +' \n",
    "\t\t\t\twhere (\n",
    "\t\t\t\t\tgpsdate > ' + @begin_gpsdate + ' \n",
    "\t\t\t\t\tor \n",
    "\t\t\t\t\t( gpsdate = ' + @begin_gpsdate + ' and gpstime >= ' + @begin_gpstime + ')\n",
    "\t\t\t\t) and ( \n",
    "\t\t\t\t\tgpsdate < ' + @end_gpsdate + '\n",
    "\t\t\t\t\tor \n",
    "\t\t\t\t\t( gpsdate = ' + @end_gpsdate + ' and gpstime <= ' + @end_gpstime + ')\n",
    "\t\t\t\t)\n",
    "\t\t\t\tunion\n",
    "\t\t\t\tselect \n",
    "\t\t\t\t\tconvert(datetime,\n",
    "\t\t\t\t\t\tconcat(\n",
    "\t\t\t\t\t\t\t' + @year + ', \n",
    "\t\t\t\t\t\t\tRIGHT(''00''+ CAST(t_month  AS VARCHAR(2)),2), \n",
    "\t\t\t\t\t\t\tRIGHT(''00''+ CAST(t_day    AS VARCHAR(2)),2),'' '', \n",
    "\t\t\t\t\t\t\tRIGHT(''00''+ CAST(t_hour   AS VARCHAR(2)),2),'':'', \n",
    "\t\t\t\t\t\t\tRIGHT(''00''+ CAST(t_minute AS VARCHAR(2)),2),'':'', \n",
    "\t\t\t\t\t\t\tRIGHT(''00''+ CAST(t_sec    AS VARCHAR(2)),2))\n",
    "\t\t\t\t\t) as dt , voltage, null as gsm_sen, null as mv, null as ma, null as mah\n",
    "\t\t\t\tfrom rf_message_tag_00' + @id +'_' + @year +' \n",
    "\t\t\t\twhere\n",
    "\t\t\t\t(\n",
    "\t\t\t\t\tt_month > ' + @begin_m + '\n",
    "\t\t\t\t\tor \n",
    "\t\t\t\t\t(t_month = ' + @begin_m + ' and t_day >' + @begin_d + ') \n",
    "\t\t\t\t\tor \n",
    "\t\t\t\t\t(t_month = ' + @begin_m + ' and t_day =' + @begin_d + ' and t_hour >=' + @begin_h + ') \n",
    "\t\t\t\t)\n",
    "\t\t\t\tand (\n",
    "\t\t\t\t\tt_month < ' + @end_m + '\n",
    "\t\t\t\t\tor \n",
    "\t\t\t\t\t(t_month = ' + @end_m + ' and t_day <' + @end_d + ') \n",
    "\t\t\t\t\tor \n",
    "\t\t\t\t\t(t_month = ' + @end_m + ' and t_day =' + @end_d + ' and t_hour <=' + @end_h + ') \n",
    "\t\t\t\t)\n",
    "\t\t\t) as a \n",
    "\t\t\tgroup by \n",
    "\t\t\tdatepart(YEAR, dt),\n",
    "\t\t\tdatepart(MONTH, dt),\n",
    "\t\t\tdatepart(DAY, dt),\n",
    "\t\t\tdatepart(HOUR, dt),\n",
    "\t\t\t(datepart(MINUTE, dt) / 10) \n",
    "\t\t) as b \n",
    "\t\torder by dt'\n",
    "\telse\n",
    "\t\t'select * from (\n",
    "\t\t\tselect convert(datetime, concat(\n",
    "\t\t\tdatepart(YEAR, dt), ''/'' ,\n",
    "\t\t\tdatepart(MONTH, dt), ''/'' ,\n",
    "\t\t\tdatepart(DAY, dt)  , '' '',\n",
    "\t\t\tdatepart(HOUR, dt) , '':'',\n",
    "\t\t\t(datepart(MINUTE, dt) / 10), ''0'')) as dt , avg(voltage) as voltage, avg(gsm_sen) as gsm_sen, avg(mv) as mv, avg(ma) as ma, avg(mah) as mah\n",
    "\t\t\tfrom (\n",
    "\t\t\t\tselect convert(datetime,\n",
    "\t\t\t\t\tconcat(\n",
    "\t\t\t\t\t\tgpsdate,'' '', \n",
    "\t\t\t\t\t\tsubstring(gpstime, 1,2),'':'',\n",
    "\t\t\t\t\t\tsubstring(gpstime, 3,2),'':'',\n",
    "\t\t\t\t\t\tsubstring(gpstime, 5,2))\n",
    "\t\t\t\t) as dt, voltage, gsm_sen, mv, ma, mah \n",
    "\t\t\t\tfrom rf_message_gps_00' + @id +'_' + @year +' \n",
    "\t\t\t\twhere (\n",
    "\t\t\t\t\tgpsdate > ' + @begin_gpsdate + ' \n",
    "\t\t\t\t\tor \n",
    "\t\t\t\t\t( gpsdate = ' + @begin_gpsdate + ' and gpstime >= ' + @begin_gpstime + ')\n",
    "\t\t\t\t) and ( \n",
    "\t\t\t\t\tgpsdate < ' + @end_gpsdate + '\n",
    "\t\t\t\t\tor \n",
    "\t\t\t\t\t( gpsdate = ' + @end_gpsdate + ' and gpstime <= ' + @end_gpstime + ')\n",
    "\t\t\t\t)\n",
    "\t\t\t) as a \n",
    "\t\t\tgroup by \n",
    "\t\t\tdatepart(YEAR, dt),\n",
    "\t\t\tdatepart(MONTH, dt),\n",
    "\t\t\tdatepart(DAY, dt),\n",
    "\t\t\tdatepart(HOUR, dt),\n",
    "\t\t\t(datepart(MINUTE, dt) / 10) \n",
    "\t\t) as b \n",
    "\t\torder by dt'\n",
    "\t\tend\n",
    "\texec(@sql)\n",
    "END"
   ]
  },
  {
   "cell_type": "markdown",
   "id": "e1772a7e",
   "metadata": {},
   "source": [
    "### 範例2 - 充電"
   ]
  },
  {
   "cell_type": "code",
   "execution_count": null,
   "id": "07f303b4",
   "metadata": {},
   "outputs": [],
   "source": [
    "declare @id nvarchar(5) = {{ id }}\n",
    "declare @begin date = {{ begin }}\n",
    "declare @end date = {{ end }}\n",
    "\n",
    "\n",
    "declare @temp table(dt datetime, voltage float, gsm_sen float, mv int, ma int, mah int)\n",
    "insert into @temp exec dbo.tag_battery @begin, @end, @id\n",
    "\n",
    "select \n",
    "    row_number() over(order by dt) as serial_id, \n",
    "    dt, \n",
    "    voltage \n",
    "into #TempTable2 \n",
    "from @temp\n",
    "\n",
    "declare @serial_id int;\n",
    "declare @bottom_dt datetime  = (select top 1 dt from #TempTable2 order by serial_id )\n",
    "declare @bottom_voltage int  = (select top 1 voltage from #TempTable2 order by serial_id )\n",
    "declare @pre_voltage int = @bottom_voltage\n",
    "declare @pre_dt datetime = @bottom_dt\n",
    "declare @charge tinyint = 0\n",
    "DECLARE @out TABLE (\n",
    "start_dt datetime, \n",
    "start_v int,\n",
    "end_dt datetime, \n",
    "end_v int, \n",
    "charge_v int, \n",
    "charge_h float\n",
    ")\n",
    "while ( select count(*) from #TempTable2) >0 \n",
    "\tbegin \n",
    "\t     declare @voltage int \n",
    "\t     declare @dt datetime \n",
    "\t\t Select Top 1 @serial_id = serial_id, @dt = dt, @voltage =voltage  From #TempTable2 order by serial_id \n",
    "\n",
    "\t\t if @voltage > @pre_voltage and @charge = 0 \n",
    "\t\t\tbegin \n",
    "\t\t\t  set @bottom_voltage = @pre_voltage\n",
    "\t\t\t  set @bottom_dt = @pre_dt\n",
    "\t\t\t  set @charge = 1\n",
    "\t\t\tend \n",
    "\t\t if ((@voltage < @pre_voltage or @pre_voltage =100 ) and @charge = 1)\n",
    "            begin\n",
    "\t\t\t\tinsert into @out (start_dt,start_v,end_dt,end_v, charge_v,charge_h ) select @bottom_dt,@bottom_voltage, @pre_dt, @pre_voltage, @pre_voltage-@bottom_voltage , round(cast(DATEDIFF(MINUTE, @bottom_dt, @pre_dt)as float) / cast(60 as float),2)\n",
    "\t\t\t\tset @charge = 0\n",
    "\t\t\tend\n",
    "\t\t if ( ( select count(*) from #TempTable2) = 1 and @charge = 1)\n",
    "\t\t\tbegin \n",
    "\t\t\t\tinsert into @out (start_dt,start_v,end_dt,end_v, charge_v,charge_h ) select @bottom_dt,@bottom_voltage, @pre_dt, @pre_voltage, @pre_voltage-@bottom_voltage, round(cast(DATEDIFF(MINUTE, @bottom_dt, @pre_dt)as float) / cast(60 as float),2)\t\t\t\n",
    "\t\t\tend\n",
    "\t\t set  @pre_voltage = @voltage\n",
    "\t\t set @pre_dt = @dt\n",
    "\t\t Delete #TempTable2 Where serial_id = @serial_id\n",
    "    end\n",
    "drop table #TempTable2\n",
    "\n",
    "select start_dt as '起始時間', end_dt as '結束時間', concat(start_v,' -> ',end_v) as '電壓' , charge_v as '充電電壓', charge_h as '耗時(h)', round(cast(charge_v as float) / cast(charge_h as float), 2)  as '充電率(電壓/小時)' from @out"
   ]
  },
  {
   "cell_type": "markdown",
   "id": "79f30cf0",
   "metadata": {},
   "source": [
    "### 範例三 - 放電"
   ]
  },
  {
   "cell_type": "code",
   "execution_count": null,
   "id": "a89f7f41",
   "metadata": {},
   "outputs": [],
   "source": [
    "declare @id NVARCHAR(5) = {{ id }}\n",
    "declare @begin date = {{ begin }}\n",
    "declare @end date = {{ end }}\n",
    "declare @max_mah int = {{ max_mah }}\n",
    "\n",
    "declare @temp table(dt datetime, voltage float, gsm_sen float, mv int, ma int, mah int)\n",
    "insert into @temp exec dbo.tag_battery @begin, @end, @id\n",
    "\n",
    "select \n",
    "    row_number() over(order by dt) as serial_id, \n",
    "    dt, \n",
    "    voltage \n",
    "into #TempTable2 \n",
    "from @temp\n",
    "\n",
    "declare @serial_id int;\n",
    "declare @top_dt datetime  = (select top 1 dt from #TempTable2 order by serial_id )\n",
    "declare @top_voltage int  = (select top 1 voltage from #TempTable2 order by serial_id )\n",
    "declare @pre_voltage int = @top_voltage\n",
    "declare @pre_dt datetime = @top_dt\n",
    "declare @charge tinyint = 1\n",
    "DECLARE @out TABLE (\n",
    "start_dt datetime, \n",
    "start_v int,\n",
    "end_dt datetime, \n",
    "end_v int,\n",
    "drain_v int, \n",
    "duration_h float,\n",
    "health float\n",
    ")\n",
    "while ( select count(*) from #TempTable2) >0 \n",
    "\tbegin \n",
    "\t     declare @voltage int \n",
    "\t     declare @dt datetime \n",
    "\t\t Select Top 1 @serial_id = serial_id, @dt = dt, @voltage =voltage  From #TempTable2 order by serial_id \n",
    "\n",
    "\t\t if @voltage > @pre_voltage and @charge = 0 \n",
    "\t\t\tbegin\n",
    "\t\t\t\tdeclare @health float \n",
    "\t\t\t\tselect top 1 @health = (mah *100*100) / (voltage*@max_mah) from @temp where ma is not null and dt >= @top_dt and dt <= @pre_dt\n",
    "\t\t\t\tinsert into @out (start_dt,start_v,end_dt,end_v,drain_v,duration_h, health) select @top_dt,@top_voltage, @pre_dt, @pre_voltage, @top_voltage-@pre_voltage , round(cast(DATEDIFF(MINUTE, @top_dt, @pre_dt)as float) / cast(60 as float),2), @health\n",
    "\t\t\t\tset @charge = 1 \n",
    "\t\t\tend\n",
    "\t\t if @voltage < @pre_voltage and @charge =1 \n",
    "\t\t    begin \n",
    "\t\t\t  set @top_voltage = @pre_voltage\n",
    "\t\t\t  set @top_dt = @pre_dt\n",
    "\t\t\t  set @charge = 0\n",
    "\t\t\tend \n",
    "\t\t if ( ( select count(*) from #TempTable2) = 1 and @charge = 0)\n",
    "\t\t\tbegin \n",
    "\t\t\t\tselect top 1  @health = (mah *100*100) / (voltage*@max_mah)  from @temp where ma is not null and dt >= @top_dt and dt <= @pre_dt\n",
    "\t\t\t\tinsert into @out (start_dt,start_v,end_dt,end_v,drain_v,duration_h, health ) select @top_dt,@top_voltage, @pre_dt, @pre_voltage, @top_voltage-@pre_voltage , round(cast(DATEDIFF(MINUTE, @top_dt, @pre_dt)as float) / cast(60 as float),2), @health\t\t\n",
    "\t\t\tend\n",
    "\t\t set  @pre_voltage = @voltage\n",
    "\t\t set @pre_dt = @dt\n",
    "\t\t Delete #TempTable2 Where serial_id = @serial_id\n",
    "    end\n",
    "drop table #TempTable2\n",
    "select start_dt as '起始時間', end_dt as '結束時間',  concat(start_v,' -> ',end_v) as '電壓', drain_v as '消耗電壓', duration_h as '耗時(h)', round(cast(drain_v as float) / cast(duration_h as float), 2)  as '耗電率(電壓/小時)', health as '健康度' from @out"
   ]
  },
  {
   "cell_type": "code",
   "execution_count": 4,
   "id": "738ce5a7",
   "metadata": {},
   "outputs": [
    {
     "data": {
      "text/plain": [
       "92.47914494264859"
      ]
     },
     "execution_count": 4,
     "metadata": {},
     "output_type": "execute_result"
    }
   ],
   "source": [
    "2838*100*100/(95.9*3200)"
   ]
  },
  {
   "cell_type": "code",
   "execution_count": 6,
   "id": "309a41a5",
   "metadata": {},
   "outputs": [
    {
     "data": {
      "text/plain": [
       "89.8125"
      ]
     },
     "execution_count": 6,
     "metadata": {},
     "output_type": "execute_result"
    }
   ],
   "source": [
    "2874*100*100/(100*3200)"
   ]
  },
  {
   "cell_type": "code",
   "execution_count": null,
   "id": "b5b189a4",
   "metadata": {},
   "outputs": [],
   "source": []
  }
 ],
 "metadata": {
  "kernelspec": {
   "display_name": "Python 3",
   "language": "python",
   "name": "python3"
  },
  "language_info": {
   "codemirror_mode": {
    "name": "ipython",
    "version": 3
   },
   "file_extension": ".py",
   "mimetype": "text/x-python",
   "name": "python",
   "nbconvert_exporter": "python",
   "pygments_lexer": "ipython3",
   "version": "3.8.10"
  }
 },
 "nbformat": 4,
 "nbformat_minor": 5
}
