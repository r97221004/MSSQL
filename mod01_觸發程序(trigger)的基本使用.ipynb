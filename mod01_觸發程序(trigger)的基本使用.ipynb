{
 "cells": [
  {
   "cell_type": "markdown",
   "id": "7842ad1d",
   "metadata": {},
   "source": [
    "參考文章1: http://hhcmax.blogspot.com/2008/03/triggerafterbefore.html"
   ]
  },
  {
   "cell_type": "markdown",
   "id": "0ccfe4e6",
   "metadata": {},
   "source": [
    "參考文章2: https://dotblogs.com.tw/jamesfu/2014/06/20/triggersample"
   ]
  },
  {
   "cell_type": "markdown",
   "id": "39c95158",
   "metadata": {},
   "source": [
    "# 簡介"
   ]
  },
  {
   "cell_type": "raw",
   "id": "b3e99490",
   "metadata": {},
   "source": [
    "觸發程序 (trigger) 是用於在對於 Table 進行 Insert、Update、Delete 這三種行為時，會自動 \"被\" 執行的程序，所以我們可以在 trigger 裡寫一堆語法去檢查相關資料、連帶更新其它 Table 資料......。一般在 SQL SERVER 建立 trigger 時，如無特別定義的話預設是屬於 \"After\" 的trigger，也就是該 Table 資料已被異動，當然在 trigger 中可以對此異動做出復原動作；但如果所定義的是屬於 \"Before\" 的 trigger 時，該Table的資料尚未被異動，是否要異動是取決在 trigger。\n",
    "在 trigger 中 SQL SERVER 提供了 INSERTED 及 DELETED 這二個特殊暫存資料表格讓我們能更加靈活運用，下表為各異動行為中暫存資料表格裡所儲存的資料別( 若為 \"After\" trigger 時，原資料表格皆未被異動 ):"
   ]
  },
  {
   "cell_type": "raw",
   "id": "fd3363c7",
   "metadata": {},
   "source": [
    "*** 注意原資料表格還是原資料表格\n",
    "*** 注意 INSTEAD OF UPDATE 時 ，欄位都要注意有沒有安排到。沒安排到，就算妳有 update 他也不會 update。"
   ]
  },
  {
   "cell_type": "markdown",
   "id": "efac0beb",
   "metadata": {},
   "source": [
    "<img src='img/16.png'>"
   ]
  },
  {
   "cell_type": "raw",
   "id": "8e4ba291",
   "metadata": {},
   "source": [
    "SQL SERVER 中一個trigger可以指定多重異動行為，所以在trigger中運用特殊暫存資料表格時需多加留意。"
   ]
  },
  {
   "cell_type": "markdown",
   "id": "21d18732",
   "metadata": {},
   "source": [
    "# Trigger 的基本操作"
   ]
  },
  {
   "cell_type": "raw",
   "id": "154f568b",
   "metadata": {},
   "source": [
    "我們先建一個測試用資料表格和 Insert 的 Trigger。"
   ]
  },
  {
   "cell_type": "raw",
   "id": "41f908e2",
   "metadata": {},
   "source": [
    "建立測試用資料表 MMX"
   ]
  },
  {
   "cell_type": "code",
   "execution_count": null,
   "id": "fa6e7936",
   "metadata": {},
   "outputs": [],
   "source": [
    "CREATE TABLE dbo.MMX\n",
    "(\n",
    "\tA varchar(5) NULL,\n",
    "\tB int NULL\n",
    ")"
   ]
  },
  {
   "cell_type": "raw",
   "id": "a03f3b7b",
   "metadata": {},
   "source": [
    "先匯入兩筆資料"
   ]
  },
  {
   "cell_type": "code",
   "execution_count": null,
   "id": "3b2606ff",
   "metadata": {},
   "outputs": [],
   "source": [
    "INSERT INTO dbo.MMX\n",
    "VALUES('A', 0),\n",
    "      ('B', 1)      \n",
    "\n",
    "GO"
   ]
  },
  {
   "cell_type": "markdown",
   "id": "f74476b3",
   "metadata": {},
   "source": [
    "### 建立 After 的 insert trigger"
   ]
  },
  {
   "cell_type": "raw",
   "id": "8c267116",
   "metadata": {},
   "source": [
    "為建立一個 dbo.MMX 的 After Insert Trigger，檢查欲塞入資料的A欄位值是否已存在 dbo.MMX 中。"
   ]
  },
  {
   "cell_type": "code",
   "execution_count": null,
   "id": "d62350a0",
   "metadata": {},
   "outputs": [],
   "source": [
    "CREATE TRIGGER dbo.tI_MMX ON dbo.MMX\n",
    "FOR INSERT\n",
    "AS\n",
    "PRINT 'Exec tI_MMX'\n",
    "IF EXISTS(\n",
    "\t\t\tSELECT t1.A \n",
    "\t\t\tFROM dbo.MMX as t1 with (nolock)\n",
    "\t\t\tINNER JOIN INSERTED t2 with (nolock)\n",
    "\t\t\tON t1.A = t2.A\n",
    "\t\t`\tGROUP BY t1.A\n",
    "\t\t\tHAVING COUNT(1) > 1\n",
    "          )\n",
    "BEGIN\n",
    "\tRaiserror ('資料重複',16,1)\n",
    "\tReturn\n",
    "End\n",
    "GO"
   ]
  },
  {
   "cell_type": "markdown",
   "id": "2dd8dca5",
   "metadata": {},
   "source": [
    "### 建立 Before 的 insert trigger"
   ]
  },
  {
   "cell_type": "raw",
   "id": "df5cc028",
   "metadata": {},
   "source": [
    "建立一個 dbo.MMX 的 Before Insert Trigger，功能和 dbo.tI_MMX 同樣；即當欲新增資料未存在於 dbo.MMX 時才把資料實際塞入 dbo.MMX，如少了這步驟當 Insert Into .....跑完後 dbo.MMX 裡並不會多一筆資料出來。"
   ]
  },
  {
   "cell_type": "code",
   "execution_count": null,
   "id": "e35af75e",
   "metadata": {},
   "outputs": [],
   "source": [
    "CREATE TRIGGER dbo.tII_MMX on dbo.MMX\n",
    "INSTEAD OF INSERT\n",
    "AS\n",
    "PRINT 'Exec tII_MMX'\n",
    "IF EXISTS(\n",
    "\t\t\tSELECT t1.A \n",
    "\t\t\tFROM dbo.MMX as t1 with (nolock)\n",
    "\t\t\tINNER JOIN INSERTED t2 with (nolock)\n",
    "\t\t\tON t1.A = t2.A\n",
    "          )\n",
    "BEGIN\n",
    "\tRaiserror ('資料重複',16,1)\n",
    "\tReturn\n",
    "End\n",
    "ELSE　INSERT INTO dbo.MMX \n",
    "      SELECT * FROM INSERTED\n",
    "GO"
   ]
  },
  {
   "cell_type": "markdown",
   "id": "2d5b20b5",
   "metadata": {},
   "source": [
    "---"
   ]
  },
  {
   "cell_type": "raw",
   "id": "6c3d45c6",
   "metadata": {},
   "source": [
    "塞入一筆 A 欄位重覆的資料後發現跑完 dbo.tII_MMX 即中斷並未繼續執行 dbo.tI_MMX，因為我們行下了 return，所以有資料重覆情況時不會執行到後面程式，所以沒有資料被實際塞到 dbo.MMX 中，dbo.tI_MMX 自然也不會被觸發起來。"
   ]
  },
  {
   "cell_type": "code",
   "execution_count": null,
   "id": "e046ca4f",
   "metadata": {},
   "outputs": [],
   "source": [
    "INSERT INTO dbo.MMX\n",
    "VALUES('A', 8)"
   ]
  },
  {
   "cell_type": "raw",
   "id": "1a8bdfbe",
   "metadata": {},
   "source": [
    "塞入一筆未重覆的資料後，dbo.tII_MMX順利將資料INSERT INTO 到 dbo.MMX，連帶會觸發起dbo.tI_MMX的執行。"
   ]
  },
  {
   "cell_type": "code",
   "execution_count": null,
   "id": "b571ee62",
   "metadata": {},
   "outputs": [],
   "source": [
    "INSERT INTO dbo.MMX\n",
    "VALUES('C', 8)"
   ]
  },
  {
   "cell_type": "markdown",
   "id": "ad665a54",
   "metadata": {},
   "source": [
    "### 建立一個 After 的 update trigger"
   ]
  },
  {
   "cell_type": "code",
   "execution_count": null,
   "id": "59b9ac28",
   "metadata": {},
   "outputs": [],
   "source": [
    "建立一個 After 的Update Trigger，用來防止A欄位資料重覆。"
   ]
  },
  {
   "cell_type": "code",
   "execution_count": null,
   "id": "e9edb150",
   "metadata": {},
   "outputs": [],
   "source": [
    "CREATE TRIGGER dbo.tU_MMX on dbo.MMX\n",
    "FOR UPDATE\n",
    "AS\n",
    "PRINT 'Exec tU_MMX'\n",
    "IF EXISTS(\n",
    "\t\t\tSELECT t1.A \n",
    "\t\t\tFROM dbo.MMX t1 with(nolock)\n",
    "\t\t\tINNER JOIN INSERTED t2 with(nolock) on t1.A = t2.A\n",
    "\t\t\tGROUP BY t1.A\n",
    "\t\t\tHAVING COUNT(1) > 1)\n",
    "\n",
    "BEGIN\n",
    "\tRaiserror ('資料重複',16,1)\n",
    "\tRollback transaction\n",
    "\tReturn\n",
    "END\n",
    "GO"
   ]
  },
  {
   "cell_type": "markdown",
   "id": "f213faf2",
   "metadata": {},
   "source": [
    "### 建立一個 Before 的 update trigger"
   ]
  },
  {
   "cell_type": "raw",
   "id": "364f564f",
   "metadata": {},
   "source": [
    "建立一個 Before 的 Update Trigger，同樣用來防止A欄位資料重覆。"
   ]
  },
  {
   "cell_type": "raw",
   "id": "744a155a",
   "metadata": {},
   "source": [
    "如果一次UPDATE多筆資料時即中斷程式，也不會實際去異動dbo.MMX 裡的資料"
   ]
  },
  {
   "cell_type": "code",
   "execution_count": null,
   "id": "eb2a4239",
   "metadata": {},
   "outputs": [],
   "source": [
    "CREATE TRIGGER dbo.tUI_MMX on dbo.MMX\n",
    "INSTEAD of UPDATE\n",
    "AS\n",
    "PRINT 'Exec tUI_MMX'\n",
    "\n",
    "IF (SELECT COUNT(1) FROM DELETED) <> 1\n",
    "\tReturn\n",
    "\n",
    "DECLARE @OldID varchar(5), @NewID varchar(5)\n",
    "SELECT @OldID = A FROM DELETED\n",
    "SELECT @NewID = A  FROM INSERTED\n",
    "\n",
    "IF EXISTS(SELECT A FROM dbo.MMX with (nolock) WHERE A = @NewID) AND (@OldID <> @NewID)\n",
    "BEGIN\n",
    "\tRaiserror ('資料重複',16,1)\n",
    "\tReturn\n",
    "END\n",
    "\t\n",
    "UPDATE t1\n",
    "   SET A = t2.A,\n",
    "       B = t2.B\n",
    "   FROM dbo.MMX t1 INNER JOIN INSERTED t2\n",
    "   ON t1.A = @OldID AND t2.A = @NewID\n",
    "\n",
    "GO"
   ]
  },
  {
   "cell_type": "markdown",
   "id": "9ff6a19d",
   "metadata": {},
   "source": [
    "---"
   ]
  },
  {
   "cell_type": "raw",
   "id": "56702b2a",
   "metadata": {},
   "source": [
    "因 A 欄位資料重覆所以在 dbo.tUI_MMX 即攔截掉，所以 dbo.tU_MMX 尚未被觸發執行。"
   ]
  },
  {
   "cell_type": "code",
   "execution_count": null,
   "id": "b38f7345",
   "metadata": {},
   "outputs": [],
   "source": [
    "UPDATE dbo.MMX\n",
    "   SET A = 'A'\n",
    " WHERE A = 'C'"
   ]
  },
  {
   "cell_type": "code",
   "execution_count": null,
   "id": "4cb0f60b",
   "metadata": {},
   "outputs": [],
   "source": [
    "因 A 欄位資料未重覆所以在 dbo.tUI_MMX 中會實際去異動 dbo.MMX 而觸發 dbo.tU_MMX 的執行。"
   ]
  },
  {
   "cell_type": "code",
   "execution_count": null,
   "id": "9f531c7b",
   "metadata": {},
   "outputs": [],
   "source": [
    " UPDATE dbo.MMX\n",
    "    SET A = 'D' \n",
    "  WHERE A = 'C'"
   ]
  },
  {
   "cell_type": "markdown",
   "id": "46c9d391",
   "metadata": {},
   "source": [
    "### 範例01"
   ]
  },
  {
   "cell_type": "code",
   "execution_count": null,
   "id": "86390310",
   "metadata": {},
   "outputs": [],
   "source": [
    "CREATE TRIGGER take_off_insert_datetime_conversion_trigger ON dbo.take_off\n",
    "INSTEAD OF INSERT\n",
    "AS\n",
    "PRINT '執行 take_off_insert_datetime_conversion_trigger'\n",
    "\n",
    "IF EXISTS(SELECT 1 FROM INSERTED WHERE start_datetime is null)\n",
    "BEGIN\n",
    "\tDECLARE @start datetimeoffset\n",
    "\tSELECT @start= \tToDateTimeOffset(concat(start_year,'-', start_month, '-',start_day,' ',start_hour, ':', start_minute), DATEPART(TZOFFSET, SYSDATETIMEOFFSET())) FROM INSERTED\n",
    "\tDECLARE @end datetimeoffset\n",
    "\tSELECT @end = ToDateTimeOffset(concat(end_year,'-', end_month, '-',end_day,' ',end_hour, ':', end_minute), DATEPART(TZOFFSET, SYSDATETIMEOFFSET())) FROM INSERTED\n",
    "\t\n",
    "\tINSERT INTO dbo.take_off \n",
    "\t   SELECT [district_prosecutors_serial_id], \n",
    "\t          [hr_criminal_serial_id], \n",
    "\t\t\t  [caseprj_serial_id], \n",
    "\t\t\t  [start_year], \n",
    "\t\t\t  [start_month], \n",
    "\t\t\t  [start_day], \n",
    "\t\t\t  [start_hour], \n",
    "\t\t\t  [start_minute], \n",
    "\t\t\t  [end_year], \n",
    "\t\t\t  [end_month], \n",
    "\t\t\t  [end_day], \n",
    "\t\t\t  [end_hour], \n",
    "\t\t\t  [end_minute], \n",
    "\t\t\t  [reason], \n",
    "\t\t\t  [note], \n",
    "\t\t\t  [noticesystem_serial_id], \n",
    "\t\t\t  [t_year], \n",
    "\t\t\t  [t_month], \n",
    "\t\t\t  [t_day], \n",
    "\t\t\t  [t_hour], \n",
    "\t\t\t  [t_minute], \n",
    "\t\t\t  [t_sec], \n",
    "\t\t\t  [str_take_off_date], \n",
    "\t\t\t  [str_take_off_time], \n",
    "\t\t\t  [end_take_off_date], \n",
    "\t\t\t  [end_take_off_time], \n",
    "\t\t\t  [insdt], \n",
    "\t\t\t  [insuid], \n",
    "\t\t\t  [insunm], \n",
    "\t\t\t  [upddt], \n",
    "\t\t\t  [upduid], \n",
    "\t\t\t  [updunm], \n",
    "\t\t\t  [ipaddress], \n",
    "\t\t\t  @start, \n",
    "\t\t\t  @end\n",
    "\t   FROM INSERTED\n",
    "\n",
    "END\n",
    "\n",
    "IF EXISTS(SELECT 1 FROM INSERTED WHERE start_year is null)\n",
    "BEGIN\n",
    "\tINSERT INTO dbo.take_off \n",
    "\t   SELECT [district_prosecutors_serial_id], \n",
    "\t          [hr_criminal_serial_id], \n",
    "\t\t\t  [caseprj_serial_id], \n",
    "\t\t\t  DATEPART(YEAR, start_datetime), \n",
    "\t\t\t  DATEPART(MONTH, start_datetime), \n",
    "\t\t\t  DATEPART(DAY, start_datetime), \n",
    "\t\t\t  DATEPART(HOUR, start_datetime), \n",
    "\t\t\t  DATEPART(MINUTE, start_datetime), \n",
    "\t\t\t  DATEPART(YEAR, end_datetime), \n",
    "\t\t\t  DATEPART(MONTH, end_datetime), \n",
    "\t\t\t  DATEPART(DAY, end_datetime), \n",
    "\t\t\t  DATEPART(HOUR, end_datetime), \n",
    "\t\t\t  DATEPART(SECOND, end_datetime), \n",
    "\t\t\t  [reason], \n",
    "\t\t\t  [note], \n",
    "\t\t\t  [noticesystem_serial_id], \n",
    "\t\t\t  [t_year], \n",
    "\t\t\t  [t_month], \n",
    "\t\t\t  [t_day], \n",
    "\t\t\t  [t_hour], \n",
    "\t\t\t  [t_minute], \n",
    "\t\t\t  [t_sec], \n",
    "\t\t\t  [str_take_off_date], \n",
    "\t\t\t  [str_take_off_time], \n",
    "\t\t\t  [end_take_off_date], \n",
    "\t\t\t  [end_take_off_time], \n",
    "\t\t\t  [insdt], \n",
    "\t\t\t  [insuid], \n",
    "\t\t\t  [insunm], \n",
    "\t\t\t  [upddt], \n",
    "\t\t\t  [upduid], \n",
    "\t\t\t  [updunm], \n",
    "\t\t\t  [ipaddress], \n",
    "\t\t\t  [start_datetime],\n",
    "\t\t\t  [end_datetime]\n",
    "\t   FROM INSERTED\n",
    "\n",
    "END\n",
    "GO"
   ]
  },
  {
   "cell_type": "markdown",
   "id": "855e25b8",
   "metadata": {},
   "source": [
    "### 範例02"
   ]
  },
  {
   "cell_type": "code",
   "execution_count": null,
   "id": "349457dc",
   "metadata": {},
   "outputs": [],
   "source": [
    "CREATE TRIGGER take_off_update_datetime_conversion_trigger ON dbo.take_off\n",
    "INSTEAD OF UPDATE\n",
    "AS\n",
    "PRINT '執行 take_off_update_datetime_conversion_trigger'\n",
    "\n",
    "DECLARE @old_start_year int,\n",
    "\t\t@old_start_month int,\n",
    "\t    @old_start_day int ,\n",
    "\t\t@old_start_hour int ,\n",
    "\t\t@old_start_minute int ,\n",
    "\t\t@old_end_year int ,\n",
    "\t\t@old_end_month int,\n",
    "\t\t@old_end_day int ,\n",
    "\t\t@old_end_hour int ,\n",
    "\t\t@old_end_minute int,\n",
    "\t\t@old_start_datetime datetimeoffset,\n",
    "\t\t@old_end_datetime datetimeoffset,\n",
    "\t\t@new_start_year int,\n",
    "\t\t@new_start_month int,\n",
    "\t    @new_start_day int ,\n",
    "\t\t@new_start_hour int ,\n",
    "\t\t@new_start_minute int ,\n",
    "\t\t@new_end_year int ,\n",
    "\t\t@new_end_month int,\n",
    "\t\t@new_end_day int ,\n",
    "\t\t@new_end_hour int ,\n",
    "\t\t@new_end_minute int,\n",
    "\t    @new_start_datetime datetimeoffset,\n",
    "\t\t@new_end_datetime datetimeoffset\n",
    "\n",
    "SELECT @old_start_year =  start_year FROM DELETED\n",
    "SELECT @old_start_month =  start_month FROM DELETED\n",
    "SELECT @old_start_day =  start_day FROM DELETED\n",
    "SELECT @old_start_hour =  start_hour FROM DELETED\n",
    "SELECT @old_start_minute =  start_minute FROM DELETED\n",
    "SELECT @old_end_year =  end_year FROM DELETED\n",
    "SELECT @old_end_month =  end_month FROM DELETED\n",
    "SELECT @old_end_day =  end_day FROM DELETED\n",
    "SELECT @old_end_hour =  end_hour FROM DELETED\n",
    "SELECT @old_end_minute =  end_minute FROM DELETED\n",
    "SELECT @old_start_datetime = start_datetime FROM DELETED\n",
    "SELECT @old_end_datetime = end_datetime FROM DELETED\n",
    "SELECT @new_start_year =  start_year FROM INSERTED\n",
    "SELECT @new_start_month =  start_month FROM INSERTED\n",
    "SELECT @new_start_day =  start_day FROM INSERTED\n",
    "SELECT @new_start_hour =  start_hour FROM INSERTED\n",
    "SELECT @new_start_minute =  start_minute FROM INSERTED\n",
    "SELECT @new_end_year =  end_year FROM INSERTED\n",
    "SELECT @new_end_month =  end_month FROM INSERTED\n",
    "SELECT @new_end_day =  end_day FROM INSERTED\n",
    "SELECT @new_end_hour =  end_hour FROM INSERTED\n",
    "SELECT @new_end_minute =  end_minute FROM INSERTED\n",
    "SELECT @new_start_datetime = start_datetime FROM INSERTED\n",
    "SELECT @new_end_datetime = end_datetime FROM INSERTED\n",
    "\n",
    "\n",
    "\n",
    "IF (@old_start_year <> @new_start_year) OR (@old_start_month <> @new_start_month) OR (@old_start_day <> @new_start_day) OR (@old_start_hour <> @new_start_hour) OR (@old_start_minute <> @new_start_minute) OR \n",
    "   (@old_end_year <> @new_end_year) OR (@old_end_month <> @new_end_month) OR (@old_end_day <> @new_end_day) OR (@old_end_hour <> @new_end_hour) OR (@old_end_minute <> @new_end_minute) \n",
    "\n",
    "BEGIN\n",
    "\tUPDATE t\n",
    "\tSET t.start_year = i.start_year,\n",
    "\t    t.start_month = i.start_month,\n",
    "\t\tt.start_day = i.start_day,\n",
    "\t\tt.start_hour = i.start_hour,\n",
    "\t\tt.start_minute = i.start_minute,\n",
    "\t\tt.end_year = i.end_year,\n",
    "\t\tt.end_month = i.end_month,\n",
    "\t\tt.end_day = i.end_day,\n",
    "\t\tt.end_hour = i.end_hour,\n",
    "\t\tt.end_minute = i.end_minute,\n",
    "\t\tt.start_datetime = ToDateTimeOffset(concat(i.start_year,'-', i.start_month, '-',i.start_day,' ',i.start_hour, ':', i.start_minute), DATEPART(TZOFFSET, SYSDATETIMEOFFSET())),\n",
    "\t\tt.end_datetime = ToDateTimeOffset(concat(i.end_year,'-', i.end_month, '-',i.end_day,' ',i.end_hour, ':', i.end_minute), DATEPART(TZOFFSET, SYSDATETIMEOFFSET()))\n",
    "\tFROM dbo.take_off t join INSERTED i\n",
    "\tON t.serial_id = i.serial_id\n",
    "END\n",
    "\n",
    "IF (@old_start_datetime <> @new_start_datetime) OR (@old_end_datetime <> @new_end_datetime)\n",
    "BEGIN\n",
    "\tUPDATE t\n",
    "\tSET t.start_datetime = i.start_datetime,\n",
    "\t    t.end_datetime = i.end_datetime,\n",
    "\t\tt.start_year = DATEPART(YEAR, i.start_datetime),\n",
    "\t\tt.start_month = DATEPART(MONTH, i.start_datetime),\n",
    "\t\tt.start_day = DATEPART(DAY, i.start_datetime),\n",
    "\t\tt.start_hour = DATEPART(HOUR, i.start_datetime),\n",
    "\t\tt.start_minute = DATEPART(MINUTE, i.start_datetime),\n",
    "\t\tt.end_year = DATEPART(YEAR, i.end_datetime),\n",
    "\t\tt.end_month = DATEPART(MONTH, i.end_datetime),\n",
    "\t\tt.end_day = DATEPART(DAY, i.end_datetime),\n",
    "\t\tt.end_hour = DATEPART(HOUR, i.end_datetime),\n",
    "\t\tt.end_minute = DATEPART(MINUTE, i.end_datetime)\n",
    "\tFROM dbo.take_off t join INSERTED i\n",
    "\tON t.serial_id = i.serial_id\n",
    "\n",
    "END\n",
    "\n",
    "UPDATE t\n",
    "SET \n",
    "    t.district_prosecutors_serial_id = i.district_prosecutors_serial_id,\n",
    "    t.hr_criminal_serial_id = i.hr_criminal_serial_id,\n",
    "\tt.caseprj_serial_id = i.caseprj_serial_id,\n",
    "\tt.reason = i.reason,\n",
    "\tt.note = i.note,\n",
    "\tt.noticesystem_serial_id = i.noticesystem_serial_id,\n",
    "\tt.t_year = i.t_year,\n",
    "\tt.t_month = i.t_month,\n",
    "\tt.t_day = i.t_day,\n",
    "\tt.t_hour = i.t_hour,\n",
    "\tt.t_minute = i.t_minute,\n",
    "\tt.t_sec = i.t_sec,\n",
    "\tt.str_take_off_date = i.str_take_off_date,\n",
    "\tt.str_take_off_time = i.str_take_off_time,\n",
    "\tt.end_take_off_date = i.end_take_off_date,\n",
    "\tt.end_take_off_time = i.end_take_off_time,\n",
    "\tt.insdt = i.insdt,\n",
    "\tt.insuid = i.insuid,\n",
    "\tt.insunm = i.insunm,\n",
    "\tt.upddt = i.upddt,\n",
    "\tt.upduid = i.upduid\n",
    "FROM dbo.take_off t join INSERTED i\n",
    "ON t.serial_id = i.serial_id\n",
    "\n",
    "GO"
   ]
  },
  {
   "cell_type": "markdown",
   "id": "4ae4990e",
   "metadata": {},
   "source": [
    "### 範例03"
   ]
  },
  {
   "cell_type": "code",
   "execution_count": null,
   "id": "9cc79622",
   "metadata": {},
   "outputs": [],
   "source": [
    "CREATE TRIGGER LLTDispatchList_insert_trigger ON LLTDispatchList\n",
    "FOR INSERT\n",
    "AS\n",
    "PRINT '執行 LLTDispatchList_insert_trigger'\n",
    "\n",
    "BEGIN\n",
    "\tINSERT INTO survey_dispatch(dispatch_list_disp_no, arrival_date)\n",
    "\t\t\tSELECT disp_no, CAST(concat(disp_year + 1911,'-', disp_month,'-', disp_day) as date)\n",
    "\t\t\tFROM INSERTED\n",
    "\n",
    "END\n",
    "GO"
   ]
  },
  {
   "cell_type": "markdown",
   "id": "58acc9e2",
   "metadata": {},
   "source": [
    "### 範例04"
   ]
  },
  {
   "cell_type": "code",
   "execution_count": null,
   "id": "a0e4258b",
   "metadata": {},
   "outputs": [],
   "source": [
    "CREATE TRIGGER noticesystem_update_trigger on noticesystem\n",
    "FOR UPDATE\n",
    "AS\n",
    "PRINT '執行 noticesystem_update_trigger'\n",
    "\n",
    "IF (SELECT subject_type_serial_id from DELETED) = 1  AND  (SELECT vio_flag FROM INSERTED) <> '' AND (SELECT update_notification from DELETED) is NULL\n",
    "BEGIN\n",
    "\t\n",
    "\t\tDECLARE @UPDATE_ID INT\n",
    "\t\tSELECT @UPDATE_ID = serial_id from INSERTED\n",
    "\n",
    "\t\tINSERT INTO survey_information(noticesystem_serial_id, arrival_date, hr_prosecution_serial_id)\n",
    "\t\tSELECT n.serial_id, CAST(n.notice_date as date), a.owner_serial_id\n",
    "\t\tFROM noticesystem as n \n",
    "\t\tJOIN ac_account as a on n.insuid = a.[user]\n",
    "\t\tWHERE n.serial_id = @UPDATE_ID\n",
    "END\n",
    "GO"
   ]
  },
  {
   "cell_type": "markdown",
   "id": "0458b35a",
   "metadata": {},
   "source": [
    "### 範例05"
   ]
  },
  {
   "cell_type": "code",
   "execution_count": null,
   "id": "02d17a5c",
   "metadata": {},
   "outputs": [],
   "source": [
    "CREATE TRIGGER application_open_case_insert_trigger ON application_open_case\n",
    "FOR INSERT\n",
    "AS \n",
    "PRINT '執行 application_open_case_insert_trigger'\n",
    "\n",
    "\n",
    "IF (SELECT current_state FROM INSERTED) = 'complete' \n",
    "BEGIN\n",
    "\tINSERT INTO hr_criminal(district_prosecutors_serial_id,\n",
    "\t                        name, \n",
    "\t\t\t\t\t\t\ttel, \n",
    "\t\t\t\t\t\t\tmobile, \n",
    "\t\t\t\t\t\t\taddress, \n",
    "\t\t\t\t\t\t\tpcode, \n",
    "\t\t\t\t\t\t\tbirthday_year, \n",
    "\t\t\t\t\t\t\tbirthday_month, \n",
    "\t\t\t\t\t\t\tbirthday_day,\n",
    "\t\t\t\t\t\t\tbirthday_address,\n",
    "\t\t\t\t\t\t\tsex_type,\n",
    "\t\t\t\t\t\t\tpolice_block,\n",
    "\t\t\t\t\t\t\tpolice_tel,\n",
    "\t\t\t\t\t\t\tjobs,\n",
    "\t\t\t\t\t\t\thouse_type_serial_id,\n",
    "\t\t\t\t\t\t\tpolice_officer,\n",
    "\t\t\t\t\t\t\theight_cm,\n",
    "\t\t\t\t\t\t\tweight_kg,\n",
    "\t\t\t\t\t\t\tmarriage,\n",
    "\t\t\t\t\t\t\tankle_cm,\n",
    "\t\t\t\t\t\t\thouse_ping,\n",
    "\t\t\t\t\t\t\tresidence_address,\n",
    "\t\t\t\t\t\t\tbeep_switch,\n",
    "\t\t\t\t\t\t\tpolice_mobile,\n",
    "\t\t\t\t\t\t\tapplication_open_case_serial_id)\n",
    "\n",
    "\t   SELECT h.district_prosecutors_serial_id,\n",
    "\t          i.hr_criminal_name,\n",
    "\t\t\t  i.hr_criminal_tel,\n",
    "\t\t\t  i.hr_criminal_mobile,\n",
    "\t\t\t  i.hr_criminal_address,\n",
    "\t\t\t  i.hr_criminal_pcode,\n",
    "\t\t\t  year(i.hr_criminal_birthday),\n",
    "\t\t\t  month(i.hr_criminal_birthday),\n",
    "\t\t\t  day(i.hr_criminal_birthday),\n",
    "\t\t\t  i.hr_criminal_address,\n",
    "\t\t\t  i.hr_criminal_sex_type,\n",
    "\t\t\t  i.hr_criminal_police_block,\n",
    "\t\t\t  i.hr_criminal_police_tel,\n",
    "\t\t\t  i.hr_criminal_jobs,\n",
    "\t\t\t  i.hr_criminal_house_type_serial_id,\n",
    "\t\t\t  i.hr_criminal_police_officer,\n",
    "\t\t\t  i.hr_criminal_height_cm,\n",
    "\t\t\t  i.hr_criminal_weight_kg,\n",
    "\t\t\t  i.hr_criminal_marriage,\n",
    "\t\t\t  i.hr_criminal_ankle_cm,\n",
    "\t\t\t  i.hr_criminal_house_ping,\n",
    "\t\t\t  i.hr_criminal_residence_address,\n",
    "\t\t\t  i.hr_criminal_beep_switch,\n",
    "\t\t\t  i.hr_criminal_police_mobile,\n",
    "\t\t\t  i.serial_id\n",
    "\t   FROM INSERTED as i\n",
    "\t   JOIN hr_prosecution as h on i.hr_prosecution_serial_id = h.serial_id \n",
    "\n",
    "\n",
    "WAITFOR DELAY '00:00:03'\n",
    "\n",
    "\n",
    "INSERT INTO caseprj(hr_criminal_serial_id, \n",
    "                    district_prosecutors_serial_id,\n",
    "                    hr_prosecution_serial_id,\n",
    "                    datetime_start_year,\n",
    "                    datetime_start_month,\n",
    "                    datetime_start_day,\n",
    "                    datetime_end_year,\n",
    "                    datetime_end_month,\n",
    "                    datetime_end_day,\n",
    "                    tag_monitor_sec,\n",
    "                    prosecutor_year,\n",
    "                    prosecutor_type,\n",
    "                    prosecutor_monitor,\n",
    "                    datetime_start,\n",
    "                    datetime_end,\n",
    "                    electronic_fence,\n",
    "                    prosecutor_number)\n",
    "\n",
    "    SELECT h.serial_id,\n",
    "           h.district_prosecutors_serial_id,\n",
    "           i.hr_prosecution_serial_id,\n",
    "           year(i.caseprj_datetime_start),\n",
    "           month(i.caseprj_datetime_start),\n",
    "           day(i.caseprj_datetime_start),\n",
    "           year(i.caseprj_datetime_end),\n",
    "           month(i.caseprj_datetime_end),\n",
    "           day(i.caseprj_datetime_end),\n",
    "           300,\n",
    "           i.prosecutor_year,\n",
    "           i.prosecutor_type,\n",
    "           i.caseprj_monitor_time,\n",
    "           i.caseprj_datetime_start,\n",
    "           i.caseprj_datetime_end,\n",
    "           CONCAT(i.caseprj_no_exit, ';', i.caseprj_no_entry, ';', i.caseprj_entry_notify),\n",
    "           i.prosecutor_number\n",
    "\n",
    "    FROM INSERTED as i\n",
    "    JOIN hr_criminal as h ON i.serial_id = h.application_open_case_serial_id\n",
    "    \n",
    "END\n",
    "GO"
   ]
  },
  {
   "cell_type": "markdown",
   "id": "fbb7c7e4",
   "metadata": {},
   "source": [
    "### 範例06"
   ]
  },
  {
   "cell_type": "code",
   "execution_count": null,
   "id": "a23a5ec5",
   "metadata": {},
   "outputs": [],
   "source": [
    "CREATE TRIGGER application_open_case_update_trigger ON application_open_case\n",
    "FOR UPDATE\n",
    "AS \n",
    "PRINT '執行 application_open_case_update_trigger'\n",
    "\n",
    "\n",
    "IF (SELECT current_state FROM INSERTED) = 'complete'  AND (SELECT current_state FROM DELETED) <> 'complete'\n",
    "BEGIN\n",
    "\tINSERT INTO hr_criminal(district_prosecutors_serial_id,\n",
    "\t                        name, \n",
    "\t\t\t\t\t\t\ttel, \n",
    "\t\t\t\t\t\t\tmobile, \n",
    "\t\t\t\t\t\t\taddress, \n",
    "\t\t\t\t\t\t\tpcode, \n",
    "\t\t\t\t\t\t\tbirthday_year, \n",
    "\t\t\t\t\t\t\tbirthday_month, \n",
    "\t\t\t\t\t\t\tbirthday_day,\n",
    "\t\t\t\t\t\t\tbirthday_address,\n",
    "\t\t\t\t\t\t\tsex_type,\n",
    "\t\t\t\t\t\t\tpolice_block,\n",
    "\t\t\t\t\t\t\tpolice_tel,\n",
    "\t\t\t\t\t\t\tjobs,\n",
    "\t\t\t\t\t\t\thouse_type_serial_id,\n",
    "\t\t\t\t\t\t\tpolice_officer,\n",
    "\t\t\t\t\t\t\theight_cm,\n",
    "\t\t\t\t\t\t\tweight_kg,\n",
    "\t\t\t\t\t\t\tmarriage,\n",
    "\t\t\t\t\t\t\tankle_cm,\n",
    "\t\t\t\t\t\t\thouse_ping,\n",
    "\t\t\t\t\t\t\tresidence_address,\n",
    "\t\t\t\t\t\t\tbeep_switch,\n",
    "\t\t\t\t\t\t\tpolice_mobile,\n",
    "\t\t\t\t\t\t\tapplication_open_case_serial_id)\n",
    "\n",
    "\t   SELECT h.district_prosecutors_serial_id,\n",
    "\t          i.hr_criminal_name,\n",
    "\t\t\t  i.hr_criminal_tel,\n",
    "\t\t\t  i.hr_criminal_mobile,\n",
    "\t\t\t  i.hr_criminal_address,\n",
    "\t\t\t  i.hr_criminal_pcode,\n",
    "\t\t\t  year(i.hr_criminal_birthday),\n",
    "\t\t\t  month(i.hr_criminal_birthday),\n",
    "\t\t\t  day(i.hr_criminal_birthday),\n",
    "\t\t\t  i.hr_criminal_address,\n",
    "\t\t\t  i.hr_criminal_sex_type,\n",
    "\t\t\t  i.hr_criminal_police_block,\n",
    "\t\t\t  i.hr_criminal_police_tel,\n",
    "\t\t\t  i.hr_criminal_jobs,\n",
    "\t\t\t  i.hr_criminal_house_type_serial_id,\n",
    "\t\t\t  i.hr_criminal_police_officer,\n",
    "\t\t\t  i.hr_criminal_height_cm,\n",
    "\t\t\t  i.hr_criminal_weight_kg,\n",
    "\t\t\t  i.hr_criminal_marriage,\n",
    "\t\t\t  i.hr_criminal_ankle_cm,\n",
    "\t\t\t  i.hr_criminal_house_ping,\n",
    "\t\t\t  i.hr_criminal_residence_address,\n",
    "\t\t\t  i.hr_criminal_beep_switch,\n",
    "\t\t\t  i.hr_criminal_police_mobile,\n",
    "\t\t\t  i.serial_id\n",
    "\t   FROM INSERTED as i\n",
    "\t   JOIN hr_prosecution as h on i.hr_prosecution_serial_id = h.serial_id \n",
    "\n",
    "\n",
    "WAITFOR DELAY '00:00:03'\n",
    "\n",
    "\n",
    "INSERT INTO caseprj(hr_criminal_serial_id, \n",
    "                    district_prosecutors_serial_id,\n",
    "                    hr_prosecution_serial_id,\n",
    "                    datetime_start_year,\n",
    "                    datetime_start_month,\n",
    "                    datetime_start_day,\n",
    "                    datetime_end_year,\n",
    "                    datetime_end_month,\n",
    "                    datetime_end_day,\n",
    "                    tag_monitor_sec,\n",
    "                    prosecutor_year,\n",
    "                    prosecutor_type,\n",
    "                    prosecutor_monitor,\n",
    "                    datetime_start,\n",
    "                    datetime_end,\n",
    "                    electronic_fence,\n",
    "                    prosecutor_number)\n",
    "\n",
    "    SELECT h.serial_id,\n",
    "           h.district_prosecutors_serial_id,\n",
    "           i.hr_prosecution_serial_id,\n",
    "           year(i.caseprj_datetime_start),\n",
    "           month(i.caseprj_datetime_start),\n",
    "           day(i.caseprj_datetime_start),\n",
    "           year(i.caseprj_datetime_end),\n",
    "           month(i.caseprj_datetime_end),\n",
    "           day(i.caseprj_datetime_end),\n",
    "           300,\n",
    "           i.prosecutor_year,\n",
    "           i.prosecutor_type,\n",
    "           i.caseprj_monitor_time,\n",
    "           i.caseprj_datetime_start,\n",
    "           i.caseprj_datetime_end,\n",
    "           CONCAT(i.caseprj_no_exit, ';', i.caseprj_no_entry, ';', i.caseprj_entry_notify),\n",
    "           i.prosecutor_number\n",
    "\n",
    "    FROM INSERTED as i\n",
    "    JOIN hr_criminal as h ON i.serial_id = h.application_open_case_serial_id\n",
    "    \n",
    "END\n",
    "GO"
   ]
  },
  {
   "cell_type": "markdown",
   "id": "9a95edea",
   "metadata": {},
   "source": [
    "### 範例07"
   ]
  },
  {
   "cell_type": "code",
   "execution_count": null,
   "id": "53af100e",
   "metadata": {},
   "outputs": [],
   "source": [
    "CREATE TRIGGER take_off_insert_for_readtime_trigger ON take_off\n",
    "FOR INSERT\n",
    "AS\n",
    "PRINT '執行 take_off_insert_for_readtime_trigger'\n",
    "\n",
    "BEGIN\n",
    "\n",
    "DECLARE @take_off_serial_id int,\n",
    "        @take_off_district_prosecutors_serial_id int\n",
    "\n",
    "SELECT　@take_off_serial_id = serial_id FROM INSERTED\n",
    "SELECT  @take_off_district_prosecutors_serial_id = district_prosecutors_serial_id FROM INSERTED\n",
    "\n",
    "\n",
    "INSERT INTO take_off_hr_prosecution(take_off_serial_id, hr_prosecution_serial_id)\n",
    "    SELECT @take_off_serial_id, serial_id\n",
    "\tFROM hr_prosecution\n",
    "\tWHERE \n",
    "\t    district_prosecutors_serial_id = @take_off_district_prosecutors_serial_id\n",
    "\t\tand \n",
    "\t\t(discharge_flag <> 'Y' and resign_flag <> 'Y' and retire_flag <> 'Y'\n",
    "\t\tor\n",
    "\t\tdischarge_flag is NULL and resign_flag is NULL and retire_flag is NULL)\n",
    "\n",
    "END\n",
    "GO"
   ]
  },
  {
   "cell_type": "markdown",
   "id": "5e084724",
   "metadata": {},
   "source": [
    "### 範例08"
   ]
  },
  {
   "cell_type": "code",
   "execution_count": null,
   "id": "519bc118",
   "metadata": {},
   "outputs": [],
   "source": [
    "CREATE TRIGGER take_off_delete_for_readtime_trigger ON take_off\n",
    "FOR DELETE\n",
    "AS\n",
    "PRINT '執行 take_off_delete_for_readtime_trigger'\n",
    "\n",
    "DECLARE @take_off_serial_id int\n",
    "      \n",
    "SELECT　@take_off_serial_id = serial_id FROM DELETED\n",
    "\n",
    "\n",
    "DELETE FROM take_off_hr_prosecution\n",
    "WHERE take_off_serial_id = @take_off_serial_id\n",
    "\n",
    "GO"
   ]
  }
 ],
 "metadata": {
  "kernelspec": {
   "display_name": "Python 3",
   "language": "python",
   "name": "python3"
  },
  "language_info": {
   "codemirror_mode": {
    "name": "ipython",
    "version": 3
   },
   "file_extension": ".py",
   "mimetype": "text/x-python",
   "name": "python",
   "nbconvert_exporter": "python",
   "pygments_lexer": "ipython3",
   "version": "3.8.10"
  }
 },
 "nbformat": 4,
 "nbformat_minor": 5
}
