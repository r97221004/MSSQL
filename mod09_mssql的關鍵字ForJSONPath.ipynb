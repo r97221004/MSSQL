{
 "cells": [
  {
   "cell_type": "markdown",
   "id": "d8309b03",
   "metadata": {},
   "source": [
    "參考文章: https://www.gss.com.tw/blog/%E4%BD%BF%E7%94%A8-openjson-%E5%8F%8A-for-json-%E5%89%96%E6%9E%90%E5%8F%8A%E8%BD%89%E6%8F%9B-json-%E8%B3%87%E6%96%99-ms-sql"
   ]
  },
  {
   "cell_type": "markdown",
   "id": "293f2eb2",
   "metadata": {},
   "source": [
    "範例:"
   ]
  },
  {
   "cell_type": "code",
   "execution_count": null,
   "id": "af8613b7",
   "metadata": {},
   "outputs": [],
   "source": [
    "select (\n",
    "select c.serial_id as [caseprj.serial_id],\n",
    "       c.m_group as [caseprj.m_group],\n",
    "\t   d.serial_id as [district_prosecutors.serial_id],\n",
    "\t   d.engineer as [district_prosecutors.engineer]\n",
    "from caseprj as c\n",
    "left join district_prosecutors as d on c.district_prosecutors_serial_id = d.serial_id \n",
    "where c.serial_id = 4414\n",
    "FOR JSON PATH) as result"
   ]
  }
 ],
 "metadata": {
  "kernelspec": {
   "display_name": "Python 3",
   "language": "python",
   "name": "python3"
  },
  "language_info": {
   "codemirror_mode": {
    "name": "ipython",
    "version": 3
   },
   "file_extension": ".py",
   "mimetype": "text/x-python",
   "name": "python",
   "nbconvert_exporter": "python",
   "pygments_lexer": "ipython3",
   "version": "3.8.10"
  }
 },
 "nbformat": 4,
 "nbformat_minor": 5
}
