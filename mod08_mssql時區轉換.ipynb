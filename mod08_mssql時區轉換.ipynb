{
 "cells": [
  {
   "cell_type": "markdown",
   "id": "c6a44556",
   "metadata": {},
   "source": [
    "### 參考: https://stackoverflow.com/questions/8038744/convert-datetime-column-from-utc-to-local-time-in-select-statement"
   ]
  },
  {
   "cell_type": "code",
   "execution_count": null,
   "id": "bbc09124",
   "metadata": {},
   "outputs": [],
   "source": [
    "SELECT start_datetime, CONVERT(datetime, \n",
    "               SWITCHOFFSET(CONVERT(datetimeoffset, \n",
    "                                    start_datetime AT TIME ZONE 'UTC'), \n",
    "                            DATENAME(TzOffset, SYSDATETIMEOFFSET()))) \n",
    "       AS ColumnInLocalTime\n",
    "FROM take_off "
   ]
  }
 ],
 "metadata": {
  "kernelspec": {
   "display_name": "Python 3",
   "language": "python",
   "name": "python3"
  },
  "language_info": {
   "codemirror_mode": {
    "name": "ipython",
    "version": 3
   },
   "file_extension": ".py",
   "mimetype": "text/x-python",
   "name": "python",
   "nbconvert_exporter": "python",
   "pygments_lexer": "ipython3",
   "version": "3.8.10"
  }
 },
 "nbformat": 4,
 "nbformat_minor": 5
}
