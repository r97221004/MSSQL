{
 "cells": [
  {
   "cell_type": "markdown",
   "id": "64e415cb",
   "metadata": {},
   "source": [
    "# Stored Procedure 預存程序"
   ]
  },
  {
   "cell_type": "raw",
   "id": "cd71312c",
   "metadata": {},
   "source": [
    "- 是一個 T-SQL 陳述式之集合\n",
    "- 有點類似其他語言中的 函數(function) 或是 方法(method, subroutine)\n",
    "- 可以透過呼叫這些預存程序之名稱來執行對應陳述式集合(命令集)"
   ]
  },
  {
   "cell_type": "raw",
   "id": "212441c0",
   "metadata": {},
   "source": [
    "Stored Procedure 優點:\n",
    "    \n",
    "- 為資料庫物件(DataBase Objects)，存置於 DB 中\n",
    "- 將方法功能進行封裝\n",
    "- 可以確保功能是能夠跨應用程式做調用呼叫的\n",
    "- 比起常規查詢來的更有效率! 試想假若商業邏輯因過於複雜使 SQL 陳述過長又龐大，這時若仍直接 ado.net 傳送一大串 SQL 就會導致網路傳輸量過\n",
    "  多也會較耗費時間。但若改為 SP 則用戶端 (client) 只會傳遞 SP Name 給 SQL Server 就可節省傳輸量。"
   ]
  },
  {
   "cell_type": "markdown",
   "id": "2da391c9",
   "metadata": {},
   "source": [
    "<img src='img/1.png'>"
   ]
  },
  {
   "cell_type": "markdown",
   "id": "b1eca8e1",
   "metadata": {},
   "source": [
    "# 為何要學習  Stored Procedure 這項技術"
   ]
  },
  {
   "cell_type": "raw",
   "id": "532d7bb0",
   "metadata": {},
   "source": [
    "在大型企業公司中 多半系統是伴隨著 DB (可視為系統命脈) 做連動性交互，也因此時常會遇到 DB 之間可能存有同一時間在多個大系統做類似 DB 操作的程式運行。功能可能一樣，也可能不一樣。有的甚至是像打棒球或是接力賽交接棒、傳球之概念般。可能做 DB 操作回傳之結果會從 A 系統做完一些處裡再傳給 B 系統再跑到 C 系統去.....更可能反敘倒回來。\n",
    "\n",
    "所以會有不只一個應用程式(系統)去對 DB 資料表做搜尋、更新.....等等。由上述示意圖可以看到黃色方框可以理解為每個不同部門或者單位各自所掌管之系統，可能都有存在一段程式是對 DB 中做更新的操作。\n",
    "\n",
    "假設四個不同應用系統都在 Local 端，所運行的這區塊程式功能都是做一樣的事情時，當一有功能調整，此時你會有需要對四個地方去做同樣調整，共需要做四次更改，這是違背開發上降低重複動作設計觀念的。\n",
    "\n",
    "預存程序之優點就在於可以集中控管做功能代碼修改之存取處裡，功能版本統一更新(一次到位)，Stored Procedure 就是一種被各個不同應用程式呼叫的一個 T-SQL 執行命令集。"
   ]
  },
  {
   "cell_type": "markdown",
   "id": "5d03ab79",
   "metadata": {},
   "source": [
    "# 建立  Stored Procedure"
   ]
  },
  {
   "cell_type": "raw",
   "id": "d1550e4f",
   "metadata": {},
   "source": [
    "假設我們目前要做的一串命令集如下，會有極高重複使用可能，所以我們建立了 ProdOrders 的預存程式。可以在 可程式性 --> 預存程序 --> 系統預存程序中找到。"
   ]
  },
  {
   "cell_type": "code",
   "execution_count": null,
   "id": "dab397d2",
   "metadata": {},
   "outputs": [],
   "source": [
    "CREATE PROC ProdOrders\n",
    "AS\n",
    "SELECT Position, sum(AnnualSalary) as TotalSalary\n",
    "FROM Employee\n",
    "WHERE Address = 'taipei'\n",
    "GROUP BY Position\n",
    "GO"
   ]
  },
  {
   "cell_type": "markdown",
   "id": "8c0a1d9a",
   "metadata": {},
   "source": [
    "# 執行 Stored Procedure"
   ]
  },
  {
   "cell_type": "markdown",
   "id": "83ac55e3",
   "metadata": {},
   "source": [
    "### 方法一: EXEC 預存程序名"
   ]
  },
  {
   "cell_type": "code",
   "execution_count": null,
   "id": "1a061e73",
   "metadata": {},
   "outputs": [],
   "source": [
    "EXEC ProdOrders"
   ]
  },
  {
   "cell_type": "markdown",
   "id": "e7b23d3b",
   "metadata": {},
   "source": [
    "### 方法二: 直接輸入預存程序名"
   ]
  },
  {
   "cell_type": "code",
   "execution_count": null,
   "id": "859ad202",
   "metadata": {},
   "outputs": [],
   "source": [
    "ProdOrders"
   ]
  },
  {
   "cell_type": "markdown",
   "id": "761b288a",
   "metadata": {},
   "source": [
    "# 修改 Stored Procedure"
   ]
  },
  {
   "cell_type": "raw",
   "id": "e6ed5ec9",
   "metadata": {},
   "source": [
    "假設今天要更改為其他 Address 時，我們就將 CREATE 改成  ALTER 之後更改再執行即可。"
   ]
  },
  {
   "cell_type": "code",
   "execution_count": null,
   "id": "95ef18e7",
   "metadata": {},
   "outputs": [],
   "source": [
    "ALTER PROC ProdOrders\n",
    "AS\n",
    "SELECT Position, sum(AnnualSalary) as TotalSalary\n",
    "FROM Employee\n",
    "WHERE Address = 'taichung'\n",
    "GROUP BY Position\n",
    "GO"
   ]
  },
  {
   "cell_type": "markdown",
   "id": "904ce0c9",
   "metadata": {},
   "source": [
    "# 預存程序傳入參數"
   ]
  },
  {
   "cell_type": "raw",
   "id": "d1f12bf9",
   "metadata": {},
   "source": [
    "如此一來我就可以更為彈性透過變數傳入去指定對應更新。"
   ]
  },
  {
   "cell_type": "code",
   "execution_count": null,
   "id": "e6fe2dcc",
   "metadata": {},
   "outputs": [],
   "source": [
    "CREATE PROC ProdOrdersID\n",
    "(\n",
    "@Address varchar(10)\n",
    ")\n",
    "AS\n",
    "SELECT Position, sum(AnnualSalary) as TotalSalary\n",
    "FROM Employee\n",
    "WHERE Address = @Address\n",
    "GROUP BY Position\n",
    "GO"
   ]
  },
  {
   "cell_type": "code",
   "execution_count": null,
   "id": "7a347cce",
   "metadata": {},
   "outputs": [],
   "source": [
    "EXEC ProdOrdersID \"taipei\""
   ]
  },
  {
   "cell_type": "markdown",
   "id": "ee88ae6d",
   "metadata": {},
   "source": [
    "# 建立 sp 的細節"
   ]
  },
  {
   "cell_type": "raw",
   "id": "4412665b",
   "metadata": {},
   "source": [
    "stored procedure 命名勿使用 sp_ 開頭，因為使用 sp_ 開頭的預設都會先至 SQL Server 的 master database 搜尋完後，才會搜尋現階段連線的 database，不僅耗時更容易有機會出錯 (比方跟 master db 存有的 sp 撞名)。"
   ]
  }
 ],
 "metadata": {
  "kernelspec": {
   "display_name": "Python 3",
   "language": "python",
   "name": "python3"
  },
  "language_info": {
   "codemirror_mode": {
    "name": "ipython",
    "version": 3
   },
   "file_extension": ".py",
   "mimetype": "text/x-python",
   "name": "python",
   "nbconvert_exporter": "python",
   "pygments_lexer": "ipython3",
   "version": "3.8.10"
  }
 },
 "nbformat": 4,
 "nbformat_minor": 5
}
