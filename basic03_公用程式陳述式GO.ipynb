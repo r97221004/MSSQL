{
 "cells": [
  {
   "cell_type": "raw",
   "id": "f491ff6d",
   "metadata": {},
   "source": [
    "SQL Server 提供不是 Transact-SQL 語句的命令，但可由 sqlcmd 和 osql 公用程式和 SQL Server Management Studio 程式碼編輯器辨識。 這些命令可用來簡化批次和指令碼的可讀性與執行。\n",
    "\n",
    "GO 會將 Transact-SQL 語句批次的結尾發出訊號給 SQL Server 公用程式。"
   ]
  },
  {
   "cell_type": "markdown",
   "id": "ef71ecf3",
   "metadata": {},
   "source": [
    "# Syntax"
   ]
  },
  {
   "cell_type": "code",
   "execution_count": null,
   "id": "c8e6e6fa",
   "metadata": {},
   "outputs": [],
   "source": [
    "GO [count] "
   ]
  },
  {
   "cell_type": "markdown",
   "id": "66289d31",
   "metadata": {},
   "source": [
    "# 引數"
   ]
  },
  {
   "cell_type": "raw",
   "id": "b4732469",
   "metadata": {},
   "source": [
    "計數: 這是正整數，在 GO 之前的批次將會執行指定的次數。"
   ]
  },
  {
   "cell_type": "markdown",
   "id": "fd4806fe",
   "metadata": {},
   "source": [
    "# 備註"
   ]
  },
  {
   "cell_type": "raw",
   "id": "b5b061d9",
   "metadata": {},
   "source": [
    "GO 不是 Transact-SQL 語句 ; 它是 sqlcmd 和 osql 公用程式所辨識的命令，SQL Server Management Studio 程式碼編輯器。\n",
    "\n",
    "SQL Server 公用程式會將 GO 解譯為應該將目前 Transact-SQL 語句批次傳送至 SQL Server 實例的訊號。 目前的陳述式批次由在上一個 GO 之後輸入的所有陳述式組成；如果是第一個 GO，便是從特定工作階段或指令碼開始之後輸入的所有陳述式組成。\n",
    "\n",
    "Transact-SQL 語句不能佔用與 GO 命令相同的行。 不過，這一行可包含註解。\n",
    "\n",
    "使用者必須遵照批次的規則。 例如，在批次內第一個陳述式之後，執行預存程序都必須包括 EXECUTE 關鍵字。 本機 (使用者自訂) 變數的範圍只限於批次，在 GO 命令之後，便不能參考它。"
   ]
  },
  {
   "cell_type": "markdown",
   "id": "36488bc7",
   "metadata": {},
   "source": [
    "### 範例01"
   ]
  },
  {
   "cell_type": "code",
   "execution_count": null,
   "id": "d47eaf4b",
   "metadata": {},
   "outputs": [],
   "source": [
    "USE AdventureWorks2012;  \n",
    "GO  \n",
    "\n",
    "DECLARE @MyMsg VARCHAR(50)  \n",
    "SELECT @MyMsg = 'Hello, World.'  \n",
    "GO -- @MyMsg is not valid after this GO ends the batch.  \n",
    "  \n",
    "-- Yields an error because @MyMsg not declared in this batch.  \n",
    "PRINT @MyMsg  \n",
    "GO  \n",
    "  \n",
    "SELECT @@VERSION;  \n",
    "-- Yields an error: Must be EXEC sp_who if not first statement in   \n",
    "-- batch.  \n",
    "sp_who  \n",
    "GO  "
   ]
  }
 ],
 "metadata": {
  "kernelspec": {
   "display_name": "Python 3",
   "language": "python",
   "name": "python3"
  },
  "language_info": {
   "codemirror_mode": {
    "name": "ipython",
    "version": 3
   },
   "file_extension": ".py",
   "mimetype": "text/x-python",
   "name": "python",
   "nbconvert_exporter": "python",
   "pygments_lexer": "ipython3",
   "version": "3.8.10"
  }
 },
 "nbformat": 4,
 "nbformat_minor": 5
}
