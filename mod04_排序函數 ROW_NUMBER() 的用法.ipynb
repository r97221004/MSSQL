{
 "cells": [
  {
   "cell_type": "markdown",
   "id": "b551fb53",
   "metadata": {},
   "source": [
    "# 排序函數 ROW_NUMBER() "
   ]
  },
  {
   "cell_type": "raw",
   "id": "d021fb97",
   "metadata": {},
   "source": [
    "ROW_NUMBER() 是 SQL 用來做排序的函數，在做分頁功能時，通常都會使用上它，ROW_NUMBER() 會將查詢出來的每一列資料加上一個序號 (從 1 開始累加)，依次排序且不會重複。\n",
    "\n",
    "使用 ROW_NUMBER() 時必須要用 OVER 子句選擇對某一列進行排序才能生成序號。"
   ]
  },
  {
   "cell_type": "markdown",
   "id": "71a8131c",
   "metadata": {},
   "source": [
    "### 使用方法"
   ]
  },
  {
   "cell_type": "raw",
   "id": "492b8f7a",
   "metadata": {},
   "source": [
    "SELECT ROW_NUMBER() OVER (ORDER BY [欄位名稱] (ASC or DESC) as [ROW_NUMBERㄉ欄位名稱] ,* \n",
    "FROM [資料表名稱]"
   ]
  },
  {
   "cell_type": "markdown",
   "id": "c1f73f4c",
   "metadata": {},
   "source": [
    "### 使用範例"
   ]
  },
  {
   "cell_type": "raw",
   "id": "02f6b7f2",
   "metadata": {},
   "source": [
    "Customers 資料表"
   ]
  },
  {
   "cell_type": "markdown",
   "id": "c3758d0f",
   "metadata": {},
   "source": [
    "<img src='img/2.png'>"
   ]
  },
  {
   "cell_type": "raw",
   "id": "8774da60",
   "metadata": {},
   "source": [
    "使用 ROW_NUMBER()\n",
    "\n",
    "select ROW_NUMBER() OVER (ORDER BY id ASC) as ROW_ID ,* from Customers\n",
    "\n",
    "顯示結果:"
   ]
  },
  {
   "cell_type": "markdown",
   "id": "1647d74e",
   "metadata": {},
   "source": [
    "<img src='img/3.png'>"
   ]
  },
  {
   "cell_type": "raw",
   "id": "bbc0087b",
   "metadata": {},
   "source": [
    "結果中的 ROW_ID 欄位，就是由 ROW_NUMBER() 函式所產生出的欄位序號列。原理是先使用 OVER 子句中的 ORDER BY 排序對資料進行排序，然後按照這個順序生成序號，由 1 開始一直流水編號到最後一筆資料。"
   ]
  },
  {
   "cell_type": "markdown",
   "id": "133a9be0",
   "metadata": {},
   "source": [
    "# 分組排序"
   ]
  },
  {
   "cell_type": "raw",
   "id": "5eba7cf6",
   "metadata": {},
   "source": [
    "範例\n",
    "\n",
    "select ROW_NUMBER() OVER (PARTITION BY address ORDER BY id ASC) as ROW_ID ,* from Customers\n",
    "\n",
    "結果:"
   ]
  },
  {
   "cell_type": "markdown",
   "id": "18e50849",
   "metadata": {},
   "source": [
    "<img src='img/4.png'>"
   ]
  },
  {
   "cell_type": "raw",
   "id": "cce12605",
   "metadata": {},
   "source": [
    "多對 address 下 PARTITION BY 條件，會發現 ROW_NUMBER() 產生的 ROW_ID 欄位，會依照組別來產生流水號。"
   ]
  },
  {
   "cell_type": "raw",
   "id": "9f292f9b",
   "metadata": {},
   "source": [
    "要取出每個群組的第一筆資料，就可以使用這個方法，如下\n",
    "\n",
    "select * from (select ROW_NUMBER() OVER (PARTITION BY address ORDER BY id ASC) as ROW_ID ,* from Customers)as KKK where KKK.ROW_ID = 1 \n",
    "\n",
    "結果:"
   ]
  },
  {
   "cell_type": "markdown",
   "id": "111d33f6",
   "metadata": {},
   "source": [
    "<img src='img/5.png'>"
   ]
  }
 ],
 "metadata": {
  "kernelspec": {
   "display_name": "Python 3",
   "language": "python",
   "name": "python3"
  },
  "language_info": {
   "codemirror_mode": {
    "name": "ipython",
    "version": 3
   },
   "file_extension": ".py",
   "mimetype": "text/x-python",
   "name": "python",
   "nbconvert_exporter": "python",
   "pygments_lexer": "ipython3",
   "version": "3.8.10"
  }
 },
 "nbformat": 4,
 "nbformat_minor": 5
}
