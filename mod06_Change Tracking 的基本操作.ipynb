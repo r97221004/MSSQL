{
 "cells": [
  {
   "cell_type": "markdown",
   "id": "9874d11d",
   "metadata": {},
   "source": [
    "# 簡介"
   ]
  },
  {
   "cell_type": "markdown",
   "id": "579e54d0",
   "metadata": {},
   "source": [
    "使用 Change Tracking 同步數據: http://www.tracefact.net/tech/102.html<br>\n",
    "Kafka Connect 實時讀取 MSSQL 數據到 Kafka: http://www.tracefact.net/tech/087.html"
   ]
  },
  {
   "cell_type": "raw",
   "id": "69200036",
   "metadata": {},
   "source": [
    "很多時候系統的瓶頸都在數據庫的讀寫方面。一般解決方案都是分庫、分表，但是分庫分表也有自己的問題：\n",
    "\n",
    "1、連接查詢 (Join操作) 效率降低\n",
    "2、往往需要修改代碼。此時另一個常用的方法就是讀寫分離，主庫進行增刪改，從庫只進行讀。這樣就涉及到主從數據庫同步的問題。不同的數據庫有不\n",
    "   同的解決方案，對於 MSSQL Server 有日誌傳送、Always On 等方案。\n",
    "\n",
    "但是上面的方案都是在同質的數據存儲之間進行同步，簡單來說，從 MSSQL 同步到另一台 MSSQL。如果從 MSSQL 同步到 MySql 數據庫，或者從 MSSQL 同步到消息隊列或者緩存，則需要採用其他方法。不同的數據庫提供了不同的解決方案，MSSQL 提供了兩個方案，Change Tracking 和 Change Data Capture。我在 Kafka Connect 實時讀取 MSSQL 數據到 Kafka 中也做了簡單的介紹。這篇文章將更詳細介紹如何使用 Change Tracking 來實現數據同步。"
   ]
  },
  {
   "cell_type": "markdown",
   "id": "eb323263",
   "metadata": {},
   "source": [
    "# Change Tracking"
   ]
  },
  {
   "cell_type": "raw",
   "id": "8af8a578",
   "metadata": {},
   "source": [
    "新建測試庫 DataSync，然後建兩張表。users 表示用戶表，user_play 表示用戶在哪個房間進行遊戲（一個虛擬的遊戲數據庫）。我們會先用 users\n",
    "表測試，後面再看 user_play 表。 "
   ]
  },
  {
   "cell_type": "code",
   "execution_count": null,
   "id": "fec6f23c",
   "metadata": {},
   "outputs": [],
   "source": [
    "USE [DataSync]\n",
    "GO\n",
    "\n",
    "CREATE TABLE [dbo].[users] (\n",
    "\t[user_id] [int] IDENTITY(1, 1) NOT NULL,\n",
    "\t[user_name] [varchar](50) NOT NULL,\n",
    "\tCONSTRAINT [PK_users] PRIMARY KEY CLUSTERED ( [user_id] ASC )\n",
    ") \n",
    "GO\n",
    "\n",
    "CREATE TABLE [dbo].[user_play] (\n",
    "\t[id] [int] IDENTITY(1, 1) NOT NULL,\n",
    "\t[user_name] [varchar](50) NOT NULL,\n",
    "\t[room] [varchar](50) NOT NULL,\n",
    "\t[score] [int] NOT NULL,\n",
    "[remark] [varchar](500) NULL,\n",
    "CONSTRAINT [PK_user_play] PRIMARY KEY CLUSTERED ( [user_name] ASC, [room] ASC )\n",
    ")\n",
    "GO"
   ]
  },
  {
   "cell_type": "markdown",
   "id": "da144d06",
   "metadata": {},
   "source": [
    "### 開啟 ChangeTracking"
   ]
  },
  {
   "cell_type": "raw",
   "id": "e6b33aaa",
   "metadata": {},
   "source": [
    "首先需要先在數據庫開啟 Change Tracking，然後還要在資料表上開啟："
   ]
  },
  {
   "cell_type": "code",
   "execution_count": null,
   "id": "bb5afa43",
   "metadata": {},
   "outputs": [],
   "source": [
    "ALTER DATABASE DataSync  \n",
    "SET CHANGE_TRACKING = ON  \n",
    "(CHANGE_RETENTION = 2 DAYS, AUTO_CLEANUP = ON)  \n",
    "GO"
   ]
  },
  {
   "cell_type": "raw",
   "id": "0c07703a",
   "metadata": {},
   "source": [
    "CHANGE_RETENTION 說明了變更記錄保留的時間為 2 天(默認值)；AUTO_CLEANUP 說明是否開啟自動清理記錄，一般選擇打開。\n",
    "接下來現在 users 表上開啟："
   ]
  },
  {
   "cell_type": "code",
   "execution_count": null,
   "id": "e55fa4be",
   "metadata": {},
   "outputs": [],
   "source": [
    "ALTER TABLE DataSync.dbo.users\n",
    "ENABLE CHANGE_TRACKING  \n",
    "WITH (TRACK_COLUMNS_UPDATED = OFF)\n",
    "GO"
   ]
  },
  {
   "cell_type": "raw",
   "id": "18b93535",
   "metadata": {},
   "source": [
    "當開啟 TRACK_COLUMNS_UPDATED 這個選項時，會記錄對哪個列的哪個行進行了更新；否則只會記錄對哪個列進行了更新（根據主鍵）。"
   ]
  },
  {
   "cell_type": "markdown",
   "id": "4ebe3ca8",
   "metadata": {},
   "source": [
    "### Change Tracking 的常用 SQL 語句"
   ]
  },
  {
   "cell_type": "raw",
   "id": "a68ec888",
   "metadata": {},
   "source": [
    "接下來我們就可以測試一下 Change Tracking，它的名字 (更改跟蹤) 已經很好的說明了它的功能，用一個 long 型的數字作為版本號，記錄下發生變更的表的主鍵。如果開啟了 TRACK_COLUMNS_UPDATED，則會記錄變更的行，否則不記錄。\n",
    "\n",
    "注意它只會記錄哪個行發生了變更，並不會記錄變更的內容。舉例來說，當 users 表 id=1 的列的 user_name 從 jimmy 改為了 jack，只會記錄user_name，而不會記錄 jimmy 和 jack。"
   ]
  },
  {
   "cell_type": "markdown",
   "id": "753c372f",
   "metadata": {},
   "source": [
    "##### 獲取數據庫中的哪些表啟用了 Change Tracking"
   ]
  },
  {
   "cell_type": "raw",
   "id": "25da6642",
   "metadata": {},
   "source": [
    "我們首先要知道哪些表啟用了更改跟蹤，然後才能對這些啟用了的表進行同步："
   ]
  },
  {
   "cell_type": "code",
   "execution_count": null,
   "id": "546ad8ef",
   "metadata": {},
   "outputs": [],
   "source": [
    "SELECT Object_Name(object_id) table_name, *\n",
    "FROM sys.change_tracking_tables\n",
    "GO"
   ]
  },
  {
   "cell_type": "markdown",
   "id": "702b904a",
   "metadata": {},
   "source": [
    "<img src='./img/6.png'>"
   ]
  },
  {
   "cell_type": "raw",
   "id": "0dd7f987",
   "metadata": {},
   "source": [
    "這裏的幾個行的含義如下：\n",
    "\n",
    "1. is_track_columns_update_on：是否開啟了 TRACK_COLUMNS_UPDATED。\n",
    "2. min_valid_version：最小可用版本。我們沒有必要保存所有的變更記錄（因為可能很快就處理了），否則這個數據量就會膨脹的非常大，耗費磁盤\n",
    "   空間。那麽當進行清理後，再次同步時，就不能從最開始的版本進行同步，而只能從最小可用版本。\n",
    "3. begin_version：初始版本號。\n",
    "4. cleanup_version：清理的版本號。"
   ]
  },
  {
   "cell_type": "markdown",
   "id": "29cc59f9",
   "metadata": {},
   "source": [
    "##### 獲取表的最小可用版本和當前版本"
   ]
  },
  {
   "cell_type": "raw",
   "id": "26482203",
   "metadata": {},
   "source": [
    "這裏最重要的一點就是注意到：版本號是個自增字段，並且是在多個表之間共同的。我們會在後面回顧這一點。注意可以看到在初始狀態時，當前的版本為 0，而最小可用版本為 1（這裏有點奇怪，是容易出 BUG 的地方）。"
   ]
  },
  {
   "cell_type": "code",
   "execution_count": null,
   "id": "24a3cdfb",
   "metadata": {},
   "outputs": [],
   "source": [
    "SELECT CHANGE_TRACKING_MIN_VALID_VERSION(OBJECT_ID('users')) as MinValidVersion,\n",
    "       CHANGE_TRACKING_CURRENT_VERSION() as CurrentVersion\n",
    "GO"
   ]
  },
  {
   "cell_type": "markdown",
   "id": "d6b0189a",
   "metadata": {},
   "source": [
    "<img src='./img/7.png'>"
   ]
  },
  {
   "cell_type": "markdown",
   "id": "6655f8b9",
   "metadata": {},
   "source": [
    "### 測試 Change Tracking"
   ]
  },
  {
   "cell_type": "markdown",
   "id": "66cc87cd",
   "metadata": {},
   "source": [
    "##### 插入數據"
   ]
  },
  {
   "cell_type": "raw",
   "id": "9c08509b",
   "metadata": {},
   "source": [
    "插入一筆資料，此時執行檢查版本的語句，可以看到最小可用版本由 0 變為了 1："
   ]
  },
  {
   "cell_type": "code",
   "execution_count": null,
   "id": "bac0fb57",
   "metadata": {},
   "outputs": [],
   "source": [
    "INSERT INTO users(user_name) \n",
    "VALUES('子陽')\n",
    "GO"
   ]
  },
  {
   "cell_type": "code",
   "execution_count": null,
   "id": "aa851642",
   "metadata": {},
   "outputs": [],
   "source": [
    "SELECT CHANGE_TRACKING_MIN_VALID_VERSION(OBJECT_ID('users')) as MinValidVersion,\n",
    "       CHANGE_TRACKING_CURRENT_VERSION() as CurrentVersion\n",
    "GO"
   ]
  },
  {
   "cell_type": "markdown",
   "id": "95aebc87",
   "metadata": {},
   "source": [
    "<img src='./img/8.png'>"
   ]
  },
  {
   "cell_type": "raw",
   "id": "5c07b125",
   "metadata": {},
   "source": [
    "接下來要查看更改的記錄，執行下面的 SQL 語句："
   ]
  },
  {
   "cell_type": "code",
   "execution_count": null,
   "id": "2d7a7554",
   "metadata": {},
   "outputs": [],
   "source": [
    "SELECT *\n",
    "FROM CHANGETABLE(CHANGES [users], 0) ct\n",
    "GO"
   ]
  },
  {
   "cell_type": "markdown",
   "id": "5d224dd8",
   "metadata": {},
   "source": [
    "<img src='./img/9.png'>"
   ]
  },
  {
   "cell_type": "raw",
   "id": "4d0e2bad",
   "metadata": {},
   "source": [
    "每次想要獲取變更信息，都需要調用 CHANGETABLE 這個函數。它的第一個參數是要查詢的表名，這裏是 users，第二個參數是版本號。這個版本號的取值非常重要，因為 CHANGETABLE 函數將返回該版本與當前版本的差異。就此處而言，因為當前版本是 1，所以會返回從版本 0 到版本 1 之間的差異。\n",
    "注意這裏的幾個字段：\n",
    "\n",
    "1. user_id: 這個是 users 表的主鍵，如果表是覆合主鍵，那麽就會有多個字段。\n",
    "2. SYS_CHANGE_OPERATION:  'I' 表示新增， 'U' 表示更新， 'D' 表示刪除。\n",
    "3. SYS_CHANGE_VERSION: 表示該行的當前版本。\n",
    "4. SYS_CHANGE_CREATION_VERSION: 表示該行創建時的版本。\n",
    "\n",
    "提示：SYS_CHANGE_VERSION 可以用於解決一些不一致問題，在 MSSQL ChangeTracking 的不一致問題中介紹。\n",
    "如果修改下上面的語句，將 version 傳入為 1，因為當前版本也是 1，兩個版本相同返回空行："
   ]
  },
  {
   "cell_type": "code",
   "execution_count": null,
   "id": "c95a0c50",
   "metadata": {},
   "outputs": [],
   "source": [
    "SELECT *\n",
    "FROM CHANGETABLE(CHANGES [users], 1) ct\n",
    "GO"
   ]
  },
  {
   "cell_type": "markdown",
   "id": "aa7a246d",
   "metadata": {},
   "source": [
    "<img src='./img/10.png'>"
   ]
  },
  {
   "cell_type": "raw",
   "id": "472ef953",
   "metadata": {},
   "source": [
    "注意到當前可用版本為 1，因此我們在同步時，如果上一次同步的結果小於 MinValidVersion，則從 MinValidVersion - 1 開始同步（如果從MinValidVersion 開始，那麽會少了最小可用版本的數據），C# 偽代碼如下："
   ]
  },
  {
   "cell_type": "code",
   "execution_count": null,
   "id": "94b7316a",
   "metadata": {},
   "outputs": [],
   "source": [
    "if(lastVersion < minValidVersion){\n",
    "    lastVersion = minValidVersion - 1;\n",
    "}\n",
    "\n",
    "// 接下來\n",
    "// 1. 調用 select CHANGE_TRACKING_CURRENT_VERSION(), 獲取當前版本 currentVersion，並保存之；同時作為下一次同步時的 lastVersion\n",
    "// 2. 調用 select * from CHANGETABLE(CHANGES [table_name], lastVersion) c 獲取從 lastVersion 到 currentVersion 的變更數據"
   ]
  },
  {
   "cell_type": "raw",
   "id": "153942de",
   "metadata": {},
   "source": [
    "在做同步時我們不僅需要知道哪些列更新了，也需要知道更新的內容。雖然上面只返回了主鍵，但這個可以很容易地通過 join 連接查詢來實現："
   ]
  },
  {
   "cell_type": "code",
   "execution_count": null,
   "id": "09f6d8d9",
   "metadata": {},
   "outputs": [],
   "source": [
    "SELECT t.*, c.SYS_CHANGE_OPERATION \n",
    "FROM CHANGETABLE(CHANGES [users], 0) c left join users t ON c.user_id = t.user_id\n",
    "GO"
   ]
  },
  {
   "cell_type": "markdown",
   "id": "5908da43",
   "metadata": {},
   "source": [
    "##### 更改數據"
   ]
  },
  {
   "cell_type": "raw",
   "id": "00b8707c",
   "metadata": {},
   "source": [
    "了解了這個機制以後，後面的就很容易了，調用下面的語句將 user_name 從 “子陽” 改為 “jimmy”："
   ]
  },
  {
   "cell_type": "raw",
   "id": "58778c12",
   "metadata": {},
   "source": [
    "UPDATE users \n",
    "SET user_name = 'jimmy' \n",
    "WHERE user_id = 1\n",
    "GO"
   ]
  },
  {
   "cell_type": "raw",
   "id": "6d5fb80d",
   "metadata": {},
   "source": [
    "先查看當前的版本："
   ]
  },
  {
   "cell_type": "code",
   "execution_count": null,
   "id": "9ddd8232",
   "metadata": {},
   "outputs": [],
   "source": [
    "SELECT CHANGE_TRACKING_MIN_VALID_VERSION(OBJECT_ID('users')) as MinValidVersion,\n",
    "       CHANGE_TRACKING_CURRENT_VERSION() as CurrentVersion\n",
    "GO"
   ]
  },
  {
   "cell_type": "markdown",
   "id": "2bc55bc6",
   "metadata": {},
   "source": [
    "<img src='./img/11.png'>"
   ]
  },
  {
   "cell_type": "raw",
   "id": "fe920644",
   "metadata": {},
   "source": [
    "此時可以看到當前的版本變為了 2。接下來再查看哪些行進行了變更，為了進行對比，分別調用 CHANGETABLE(CHANGES [users], 0) 和CHANGETABLE(CHANGES [users], 1)："
   ]
  },
  {
   "cell_type": "raw",
   "id": "ab09b74b",
   "metadata": {},
   "source": [
    "注意下圖的 SYS_CHANGE_OPERATION 為 I，因為版本 0 和版本 2 的差異是新增了一條數據。"
   ]
  },
  {
   "cell_type": "code",
   "execution_count": null,
   "id": "c2f1094c",
   "metadata": {},
   "outputs": [],
   "source": [
    "SELECT *\n",
    "FROM CHANGETABLE(CHANGES [users], 0) ct\n",
    "GO"
   ]
  },
  {
   "cell_type": "markdown",
   "id": "12e5bf82",
   "metadata": {},
   "source": [
    "<img src='./img/12.png'>"
   ]
  },
  {
   "cell_type": "raw",
   "id": "ec91b86d",
   "metadata": {},
   "source": [
    "這裏的 SYS_CHANGE_OPERATION 為 U，因為版本 1 和版本 2 的差異是更新了一條數據。"
   ]
  },
  {
   "cell_type": "code",
   "execution_count": null,
   "id": "0aee4894",
   "metadata": {},
   "outputs": [],
   "source": [
    "SELECT *\n",
    "FROM CHANGETABLE(CHANGES [users], 1) ct\n",
    "GO"
   ]
  },
  {
   "cell_type": "markdown",
   "id": "b2160af7",
   "metadata": {},
   "source": [
    "<img src='./img/13.png'>"
   ]
  },
  {
   "cell_type": "raw",
   "id": "230cd010",
   "metadata": {},
   "source": [
    "這個機制可以用於同步多個數據池，可能每個數據池同步的進度不一致，那麽就需要傳入不同的 version，然後根據返回的參數進行操作。如果是 I，則插入數據；如果是 U 則更新數據。\n",
    "\n",
    "提示： 如果輸入 CHANGETABLE(CHANGES [users], 2)，返回空行，因為當前的版本也是 2。"
   ]
  },
  {
   "cell_type": "markdown",
   "id": "b4db3244",
   "metadata": {},
   "source": [
    "##### 刪除數據"
   ]
  },
  {
   "cell_type": "raw",
   "id": "26714b18",
   "metadata": {},
   "source": [
    "接下來執行刪除操作，刪除 user_id 為 1 的數據："
   ]
  },
  {
   "cell_type": "code",
   "execution_count": null,
   "id": "20ef4261",
   "metadata": {},
   "outputs": [],
   "source": [
    "DELETE users \n",
    "WHERE user_id = 1"
   ]
  },
  {
   "cell_type": "raw",
   "id": "04e0918a",
   "metadata": {},
   "source": [
    "刪除操作比較有意思，因為不論哪個版本，和當前版本（現在已經為 3 了）對比，都是少了一條數據，因此 CHANGETABLE(CHANGES [users], 0)、CHANGETABLE(CHANGES [users], 1)、CHANGETABLE(CHANGES [users], 2) 的 SYS_CHANGE_OPERATION 均為 D。"
   ]
  },
  {
   "cell_type": "markdown",
   "id": "a2cda8a1",
   "metadata": {},
   "source": [
    "### 其他注意事項"
   ]
  },
  {
   "cell_type": "markdown",
   "id": "ffdc7606",
   "metadata": {},
   "source": [
    "###### 當有多個表時，當前版本是共用的"
   ]
  },
  {
   "cell_type": "raw",
   "id": "9bf9b0bc",
   "metadata": {},
   "source": [
    "換句話來說，就是當前版本是針對數據庫的，不是針對表的。還記得我們上面創建了兩張表吧？先往 user_play 表中插入一條數據"
   ]
  },
  {
   "cell_type": "code",
   "execution_count": null,
   "id": "98d0c18d",
   "metadata": {},
   "outputs": [],
   "source": [
    "INSERT INTO user_play(user_name, room, score) \n",
    "VALUES('子陽', '標準場', 100)\n",
    "GO"
   ]
  },
  {
   "cell_type": "raw",
   "id": "b06c8be3",
   "metadata": {},
   "source": [
    "接著開啟 user_play 表的 Change Tracking："
   ]
  },
  {
   "cell_type": "code",
   "execution_count": null,
   "id": "2e6ae71d",
   "metadata": {},
   "outputs": [],
   "source": [
    "ALTER TABLE DataSync.dbo.user_play\n",
    "ENABLE CHANGE_TRACKING  \n",
    "WITH (TRACK_COLUMNS_UPDATED = ON) "
   ]
  },
  {
   "cell_type": "raw",
   "id": "08ab1e56",
   "metadata": {},
   "source": [
    "然後查詢一下兩張表的最小可用版本："
   ]
  },
  {
   "cell_type": "code",
   "execution_count": null,
   "id": "2543b1cf",
   "metadata": {},
   "outputs": [],
   "source": [
    "SELECT CHANGE_TRACKING_MIN_VALID_VERSION(OBJECT_ID('user_play')) as user_play_MinValidVersion,\n",
    "       CHANGE_TRACKING_MIN_VALID_VERSION(OBJECT_ID('users')) as users_MinValidVersion,\n",
    "       CHANGE_TRACKING_CURRENT_VERSION() as CurrentVersion\n",
    "GO"
   ]
  },
  {
   "cell_type": "raw",
   "id": "112b95f6",
   "metadata": {},
   "source": [
    "因為 user_play 表是在當前版本為3時才開啟 Change Tracking 功能，因此它的最小可用版本為 3。而 CurrentVersion 對於 user_play 和 users 表都是一樣的。此時對於 user_play 而言，不論 CHANGETABLE(CHANGES [user_play], version) 中的版本傳入幾，都會返回空行，因為開啟 Chnage Tracking 之前的記錄是無法獲得的。因此前面插入的記錄是無法同步的，只能同步開啟 Change Tracking 後的記錄。\n",
    "\n",
    "如果此時向 user_play 再插入一條記錄，其最小可用版本不變，但 CurrentVersion 變為了 4。因此，不論是從 MinValidVersion(3) 開始，還是從MinValidVersion-1(2) 開始，都可以獲得正確結果。"
   ]
  },
  {
   "cell_type": "markdown",
   "id": "0a6b4434",
   "metadata": {},
   "source": [
    "# 通過 TRACK_COLUMNS_UPDATED 獲取更新的列"
   ]
  },
  {
   "cell_type": "raw",
   "id": "3fe05567",
   "metadata": {},
   "source": [
    "在開啟 user_play 表的 Change Tracking 時，我們將 TRACK_COLUMNS_UPDATED 選項設置為了 NO，它可以用來記錄當執行 Update 操作時，更新了哪些列。先執行下面的語句更新一下 user_play 表："
   ]
  },
  {
   "cell_type": "code",
   "execution_count": null,
   "id": "60e99314",
   "metadata": {},
   "outputs": [],
   "source": [
    "UPDATE user_play \n",
    "SET score = 150 \n",
    "WHERE id = 1\n",
    "GO"
   ]
  },
  {
   "cell_type": "raw",
   "id": "78bebe49",
   "metadata": {},
   "source": [
    "查看一下變更："
   ]
  },
  {
   "cell_type": "code",
   "execution_count": null,
   "id": "06431653",
   "metadata": {},
   "outputs": [],
   "source": [
    "SELECT *\n",
    "FROM CHANGETABLE(CHANGES [user_play], 4) ct\n",
    "GO"
   ]
  },
  {
   "cell_type": "markdown",
   "id": "03be7dbc",
   "metadata": {},
   "source": [
    "<img src='./img/14.png'>"
   ]
  },
  {
   "cell_type": "raw",
   "id": "9f9d6d3c",
   "metadata": {},
   "source": [
    "注意這裏最後的兩列 user_name 和 room 是 user_play 表的主鍵（對於 users 表來說是user_id），這裏是動態的，總是所查詢表的主鍵。當主鍵為覆合主鍵時，就會列出主鍵包含的所有行。看到 SYS_CHANGE_COLUMNS 列不再為 NULL，但是一個二進制數據，為了得到它的值，需要調用 CHANGE_TRACKING_IS_COLUMN_IN_MASK 函數。"
   ]
  },
  {
   "cell_type": "code",
   "execution_count": null,
   "id": "67bb1324",
   "metadata": {},
   "outputs": [],
   "source": [
    "SELECT CHANGE_TRACKING_IS_COLUMN_IN_MASK( \n",
    "        COLUMNPROPERTY(OBJECT_ID('user_play'), 'score', 'ColumnId'),\n",
    "        c.sys_change_columns\n",
    "    ) score_changed,\n",
    "    CHANGE_TRACKING_IS_COLUMN_IN_MASK( \n",
    "        COLUMNPROPERTY(OBJECT_ID('user_play'), 'id', 'ColumnId'),\n",
    "        c.sys_change_columns\n",
    "    ) id_changed, *\n",
    "FROM CHANGETABLE(CHANGES [user_play], 4) c"
   ]
  },
  {
   "cell_type": "markdown",
   "id": "93ab9936",
   "metadata": {},
   "source": [
    "<img src='./img/15.png'>"
   ]
  },
  {
   "cell_type": "raw",
   "id": "ec31aab6",
   "metadata": {},
   "source": [
    "通常來說，是不對主鍵和自增列進行更新操作的，只會新增和刪除。在上面我們查詢 id 列的變化只是作為一個示範。在上表中，並沒有返回變化的值（100 --> 150），而只是返回了是否有變化：1 表示有變化，0 表示沒有變化。\n",
    "\n",
    "因此，後續的同步操作通常是：對於發生變化的列，執行 update 操作。但是這樣通常顯得比較繁瑣，更簡單的辦法，和上面的 insert 時是一樣的：不去查詢哪個列發生了變化，通過 join 操作，查詢出所有列（包含變化和沒變化的），然後對所有非主鍵、非自增列進行 update 操作。\n",
    "\n",
    "Change Tracking 不記錄中間的變化過程，只記錄最終變化的是什麽。這句話的意思就是：如果你連續執行很多個 update，再調用 CHANGETABLE 語句（假設當前版本從 4 遞增到了 9），那麽不輪 version 傳入的是 4、5、6、7、8，都返回的是同樣的結果： “某一行數據發生了 update 變化，主鍵是什麽，僅此而已”。但對於我們而言，這也就足夠了。"
   ]
  },
  {
   "cell_type": "markdown",
   "id": "3e20c891",
   "metadata": {},
   "source": [
    "# 總結"
   ]
  },
  {
   "cell_type": "raw",
   "id": "c4560514",
   "metadata": {},
   "source": [
    "這篇文章演示了如何使用 MSSQL 的 Change Tracking 功能來獲取變更數據，進而可以通過編寫代碼來實現數據同步的功能。Change Tracking 是一個輕量級的方案，在實際應用中主從服務器的開銷並不大。它適合用來將 MSSQL 數據庫中的數據同步到其他異質的數據源中，例如 MySQL、Redis、消息隊列、HDFS 中。"
   ]
  }
 ],
 "metadata": {
  "kernelspec": {
   "display_name": "Python 3",
   "language": "python",
   "name": "python3"
  },
  "language_info": {
   "codemirror_mode": {
    "name": "ipython",
    "version": 3
   },
   "file_extension": ".py",
   "mimetype": "text/x-python",
   "name": "python",
   "nbconvert_exporter": "python",
   "pygments_lexer": "ipython3",
   "version": "3.8.10"
  }
 },
 "nbformat": 4,
 "nbformat_minor": 5
}
