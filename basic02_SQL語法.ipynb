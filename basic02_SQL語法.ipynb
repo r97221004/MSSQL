{
 "cells": [
  {
   "cell_type": "markdown",
   "id": "c142fe7d",
   "metadata": {},
   "source": [
    "# SQL語句"
   ]
  },
  {
   "cell_type": "raw",
   "id": "ef046739",
   "metadata": {},
   "source": [
    "SQL語句非常簡單明瞭，就像普通的英語一樣，但是具有特定的語法。SQL 語句由以分號 （;） 終止的一系列關鍵字，標識符等組成。這是有效的 SQL 語句的範例。"
   ]
  },
  {
   "cell_type": "raw",
   "id": "ed1784c0",
   "metadata": {},
   "source": [
    "SELECT emp_name, hire_date, salary FROM employees WHERE salary > 5000;"
   ]
  },
  {
   "cell_type": "raw",
   "id": "13cc4f86",
   "metadata": {},
   "source": [
    "為了提高可讀性，您還可以編寫相同的語句，如下所示：\n",
    "\n",
    "SELECT emp_name, hire_date, salary \n",
    "FROM employees \n",
    "WHERE salary > 5000;"
   ]
  },
  {
   "cell_type": "raw",
   "id": "ab1e6fbf",
   "metadata": {},
   "source": [
    "在 SQL 語句的末尾使用分號-它終止該語句或將該語句提交給數據庫服務器。但是，某些數據庫管理系統沒有這樣的要求，但是使用它是一種最佳實踐。"
   ]
  }
 ],
 "metadata": {
  "kernelspec": {
   "display_name": "Python 3",
   "language": "python",
   "name": "python3"
  },
  "language_info": {
   "codemirror_mode": {
    "name": "ipython",
    "version": 3
   },
   "file_extension": ".py",
   "mimetype": "text/x-python",
   "name": "python",
   "nbconvert_exporter": "python",
   "pygments_lexer": "ipython3",
   "version": "3.8.10"
  }
 },
 "nbformat": 4,
 "nbformat_minor": 5
}
