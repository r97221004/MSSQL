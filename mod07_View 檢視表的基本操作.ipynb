{
 "cells": [
  {
   "cell_type": "markdown",
   "id": "71191a11",
   "metadata": {},
   "source": [
    "# View 檢視表、視圖 "
   ]
  },
  {
   "cell_type": "markdown",
   "id": "9e7624c5",
   "metadata": {},
   "source": [
    "參考文章: https://www.fooish.com/sql/view.html"
   ]
  },
  {
   "cell_type": "raw",
   "id": "3c8f5b49",
   "metadata": {},
   "source": [
    "View 是藉由 SQL SELECT 查詢動態組合生成的資料表 (亦即 View 是由查詢得到的結果集組合而成的資料表)。View 內的資料紀錄是由其它實際存在的資料表中產生的，它就像是一個虛擬資料表，實際上資料庫 (或說是硬碟) 裡面是不存在這一個資料表的 (只存在此 View 的相關定義)，但是我們使用上卻有如實際存在的資料表 - 所有的 SQL 查詢語法都可以操作在此 View 上。\n",
    "\n",
    "資料表是一種實體結構 (physical structure)，而 View 是一種虛擬結構 (virtual structure)。"
   ]
  },
  {
   "cell_type": "markdown",
   "id": "7a87246b",
   "metadata": {},
   "source": [
    "# View 有哪些特性"
   ]
  },
  {
   "cell_type": "raw",
   "id": "a6ea0876",
   "metadata": {},
   "source": [
    "加強資料庫的安全性，View 可以將實體資料表結構隱藏起來，同時限制使用者只可以檢視及使用哪些資料表欄位。\n",
    "檢視表是唯讀的，亦即外部使用者無法直接透過 View 去修改內部資料。\n",
    "將複雜的 SQL 查詢包裝在 View 中，可以簡化查詢的複雜度。\n",
    "當資料表結構有變更時，只需要更改 View 的設定，不需更改程式。"
   ]
  },
  {
   "cell_type": "markdown",
   "id": "893f9f3a",
   "metadata": {},
   "source": [
    "# 建立 View "
   ]
  },
  {
   "cell_type": "raw",
   "id": "cbe2989a",
   "metadata": {},
   "source": [
    "CREATE VIEW view_name [(column_list)] AS\n",
    "SELECT column_name(s)\n",
    "FROM table_name\n",
    "WHERE condition;"
   ]
  },
  {
   "cell_type": "markdown",
   "id": "d8f19953",
   "metadata": {},
   "source": [
    "### 範例01"
   ]
  },
  {
   "cell_type": "raw",
   "id": "245ed6a2",
   "metadata": {},
   "source": [
    "一個 View 可以由查詢實體資料表而建立，亦可以查詢其它已存在的 View 而建立。"
   ]
  },
  {
   "cell_type": "code",
   "execution_count": null,
   "id": "0b3dbcae",
   "metadata": {},
   "outputs": [],
   "source": [
    "CREATE VIEW view_example AS \n",
    "SELECT qty, price, qty*price AS value \n",
    "FROM product_table;"
   ]
  },
  {
   "cell_type": "markdown",
   "id": "5ed16bd4",
   "metadata": {},
   "source": [
    "# 更新 View "
   ]
  },
  {
   "cell_type": "raw",
   "id": "782c67f5",
   "metadata": {},
   "source": [
    "如果加上 OR REPLACE 子句的意思就是若同名的 View 已經存在就覆蓋取代它。如果 View 不存在，我們可以把 CREATE OR REPLACE VIEW 看做是如同 CREATE VIEW；而如果 View 已存在，我們可以把 CREATE OR REPLACE VIEW 看做是 ALTER VIEW。"
   ]
  },
  {
   "cell_type": "code",
   "execution_count": null,
   "id": "e4edaee4",
   "metadata": {},
   "outputs": [],
   "source": [
    "CREATE OR REPLACE VIEW view_name [(column_list)] AS\n",
    "SELECT column_name(s)\n",
    "FROM table_name\n",
    "WHERE condition;"
   ]
  },
  {
   "cell_type": "markdown",
   "id": "72509e59",
   "metadata": {},
   "source": [
    "# 刪除 View "
   ]
  },
  {
   "cell_type": "markdown",
   "id": "d6b0a25a",
   "metadata": {},
   "source": [
    "DROP VIEW view_name;"
   ]
  },
  {
   "cell_type": "markdown",
   "id": "38bd62d7",
   "metadata": {},
   "source": [
    "### 範例02"
   ]
  },
  {
   "cell_type": "raw",
   "id": "dce032e8",
   "metadata": {},
   "source": [
    "假設這是一個產品訂單資料表 p_orders："
   ]
  },
  {
   "cell_type": "markdown",
   "id": "f3c38c3f",
   "metadata": {},
   "source": [
    "<img src='./img/17.png'>"
   ]
  },
  {
   "cell_type": "raw",
   "id": "f92c5b5b",
   "metadata": {},
   "source": [
    "我們可以建立一個方便查詢各產品售出總額的 View："
   ]
  },
  {
   "cell_type": "code",
   "execution_count": null,
   "id": "c0a4c5f7",
   "metadata": {},
   "outputs": [],
   "source": [
    "CREATE VIEW view_p_sum (Product, P_SUM) AS\n",
    "SELECT Product, Price*Quantity \n",
    "FROM p_orders \n",
    "GROUP BY Product;"
   ]
  },
  {
   "cell_type": "raw",
   "id": "b5cab2ad",
   "metadata": {},
   "source": [
    "接著，你就可以像操作一般資料表："
   ]
  },
  {
   "cell_type": "markdown",
   "id": "c2f1d4a3",
   "metadata": {},
   "source": [
    "<img src='./img/18.png'>"
   ]
  },
  {
   "cell_type": "markdown",
   "id": "526fef67",
   "metadata": {},
   "source": [
    "### 範例03"
   ]
  },
  {
   "cell_type": "code",
   "execution_count": null,
   "id": "8a3df567",
   "metadata": {},
   "outputs": [],
   "source": [
    "CREATE VIEW v_badge_count AS\n",
    "\n",
    "WITH cte AS (\n",
    "SELECT hr_prosecution_serial_id, \n",
    "       0 AS noticesystem,\n",
    "\t   0 AS take_off,\n",
    "\t   0 AS survey_information,\n",
    "\t   COUNT(*) AS survey_dispatch,\n",
    "\t   0 AS major_alarm,\n",
    "\t   0 AS message_alarm\n",
    "FROM survey_dispatch\n",
    "WHERE current_state <> 'complete'\n",
    "GROUP BY hr_prosecution_serial_id\n",
    "\n",
    "UNION ALL\n",
    "\n",
    "SELECT hr_prosecution_serial_id, \n",
    "       0 AS noticesystem,\n",
    "\t   0 AS take_off,\n",
    "\t   COUNT(*) AS survey_information,\n",
    "\t   0 AS survey_dispatch,\n",
    "\t   0 AS major_alarm,\n",
    "\t   0 AS message_alarm\n",
    "FROM survey_information\n",
    "WHERE current_state <> 'complete'\n",
    "GROUP BY hr_prosecution_serial_id\n",
    "\n",
    "UNION ALL\n",
    "\n",
    "SELECT hr_prosecution_serial_id,\n",
    "       0 AS noticesystem,\n",
    "\t   COUNT(*) AS take_off,\n",
    "\t   0 AS survey_information,\n",
    "\t   0 AS survey_dispatch,\n",
    "\t   0 AS major_alarm,\n",
    "\t   0 AS message_alarm\n",
    "FROM take_off_hr_prosecution\n",
    "WHERE read_datetime is  null or  read_datetime = ''\n",
    "GROUP BY hr_prosecution_serial_id\n",
    "\n",
    "UNION ALL \n",
    "\n",
    "SELECT hr_prosecution_serial_id,\n",
    "       COUNT(*) AS noticesystem,\n",
    "\t   0 AS take_off,\n",
    "\t   0 AS survey_information,\n",
    "\t   0 AS survey_dispatch,\n",
    "\t   0 AS major_alarm,\n",
    "\t   0 AS message_alarm\n",
    "FROM noticesystem_hr_prosecution\n",
    "WHERE read_datetime is  null or  read_datetime = ''\n",
    "GROUP BY hr_prosecution_serial_id\n",
    "\n",
    "UNION ALL\n",
    "\n",
    "SELECT hr_prosecution.serial_id,\n",
    "\t   0 AS noticesystem,\n",
    "\t   0 AS take_off,\n",
    "\t   0 AS survey_information,\n",
    "\t   0 AS survey_dispatch,\n",
    "\t   COUNT (hr_prosecution.serial_id) AS major_alarm,\n",
    "\t   0 AS message_alarm\n",
    "FROM v_major_alarm\n",
    "JOIN hr_prosecution ON hr_prosecution.district_prosecutors_serial_id = v_major_alarm.district_prosecutors_serial_id \n",
    "WHERE current_state = 'pending' \n",
    "GROUP BY hr_prosecution.serial_id\n",
    "\n",
    "\n",
    "UNION ALL\n",
    "\n",
    "SELECT hr_prosecution_serial_id,\n",
    "       0 AS noticesystem,\n",
    "\t   0 AS take_off,\n",
    "\t   0 AS survey_information,\n",
    "\t   0 AS survey_dispatch,\n",
    "\t   0 AS major_alarm,\n",
    "\t   COUNT(*) AS message_alarm\n",
    "FROM message_alarm_hr_prosecution\n",
    "WHERE read_datetime is  null or  read_datetime = ''\n",
    "GROUP BY hr_prosecution_serial_id\n",
    ")\n",
    "\n",
    "SELECT  hr_prosecution_serial_id,\n",
    "        sum(noticesystem) AS noticesystem,\n",
    "\t\tsum(take_off) AS take_off,\n",
    "\t\tsum(survey_information) AS survey_information,\n",
    "\t\tsum(survey_dispatch) AS survey_dispatch,\n",
    "\t\tsum(major_alarm) AS major_alarm,\n",
    "\t\tsum(message_alarm) AS message_alarm\n",
    "FROM cte \n",
    "GROUP BY hr_prosecution_serial_id\n",
    "GO"
   ]
  },
  {
   "cell_type": "markdown",
   "id": "3a56b9c3",
   "metadata": {},
   "source": [
    "### 範例04"
   ]
  },
  {
   "cell_type": "code",
   "execution_count": null,
   "id": "3c9b43ed",
   "metadata": {},
   "outputs": [],
   "source": [
    "CREATE VIEW [dbo].[v_major_alarm] AS SELECT\n",
    "\tnoticesystem.serial_id,\n",
    "\thr_criminal_serial_id,\n",
    "\tcaseprj_serial_id,\n",
    "\tdistrict_prosecutors_serial_id,\n",
    "\tmessage_alarm_serial_id,\n",
    "\tsubject_type_serial_id,\n",
    "\tresult_class.class AS category,\n",
    "\tresult AS content,\n",
    "\tnotice_date,\n",
    "\tnotice_time,\n",
    "\tvio_flag,\n",
    "\tother_content AS response,\n",
    "CASE\n",
    "\t\t\n",
    "\t\tWHEN subject_type_serial_id = 1 AND vio_flag <> 'P' THEN\n",
    "\t\tCASE\n",
    "\t\t\tWHEN ( vio_flag IS NULL OR vio_flag = '' ) THEN 'pending' \n",
    "            ELSE 'complete' \n",
    "\t\tEND \n",
    "        \n",
    "        ELSE NULL \n",
    "END AS current_state,\n",
    "\n",
    "\t\tinsdt,\n",
    "\t\tinsuid,\n",
    "\t\tinsunm,\n",
    "\t\tupddt,\n",
    "\t\tupduid,\n",
    "\t\tupdunm \n",
    "\tFROM\n",
    "\t\tnoticesystem\n",
    "\t\tLEFT JOIN result_class ON result_class.serial_id = noticesystem.res_class \n",
    "WHERE\n",
    "\tsubject_type_serial_id IN ( 1, 2 )\n",
    "GO"
   ]
  },
  {
   "cell_type": "code",
   "execution_count": null,
   "id": "6ee91cd9",
   "metadata": {},
   "outputs": [],
   "source": []
  },
  {
   "cell_type": "code",
   "execution_count": null,
   "id": "348dc349",
   "metadata": {},
   "outputs": [],
   "source": []
  },
  {
   "cell_type": "code",
   "execution_count": null,
   "id": "c3f04115",
   "metadata": {},
   "outputs": [],
   "source": []
  },
  {
   "cell_type": "code",
   "execution_count": null,
   "id": "6e28a802",
   "metadata": {},
   "outputs": [],
   "source": []
  },
  {
   "cell_type": "code",
   "execution_count": null,
   "id": "b268ef20",
   "metadata": {},
   "outputs": [],
   "source": []
  }
 ],
 "metadata": {
  "kernelspec": {
   "display_name": "Python 3",
   "language": "python",
   "name": "python3"
  },
  "language_info": {
   "codemirror_mode": {
    "name": "ipython",
    "version": 3
   },
   "file_extension": ".py",
   "mimetype": "text/x-python",
   "name": "python",
   "nbconvert_exporter": "python",
   "pygments_lexer": "ipython3",
   "version": "3.8.10"
  }
 },
 "nbformat": 4,
 "nbformat_minor": 5
}
