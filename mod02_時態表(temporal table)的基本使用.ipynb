{
 "cells": [
  {
   "cell_type": "markdown",
   "id": "1df1f1bd",
   "metadata": {},
   "source": [
    "# 何謂 System-Versioned Temporal Table"
   ]
  },
  {
   "cell_type": "raw",
   "id": "acb4aca7",
   "metadata": {},
   "source": [
    "Temporal (時態性) 是 ANSI SQL 2011 納入的資料庫功能。 \n",
    "\n",
    "Temporal Table 是 SQL Server 實作的方式，它會保留資料變更的所有歷史異動記錄。可以拿來作資料異動追蹤，或資料異動趨勢分析。至於為何是 System-Versioned， 主要是因為每個資料列的有效期間是由系統 (也就是資料庫引擎) 所管理。什麼是資料列有效期間呢? 我想， 我們看範例會比較容易了解。以下的內容會統一簡稱為 Temporal Table。"
   ]
  },
  {
   "cell_type": "markdown",
   "id": "8817a966",
   "metadata": {},
   "source": [
    "# 針對現有的資料表，加上 Temporal Table 的功能"
   ]
  },
  {
   "cell_type": "markdown",
   "id": "1621026d",
   "metadata": {},
   "source": [
    "### 建立不含 Temporal Table 的資料表， 同時新增 2 筆資料。"
   ]
  },
  {
   "cell_type": "raw",
   "id": "4789b886",
   "metadata": {},
   "source": [
    "使用資料庫 TemporalSample。"
   ]
  },
  {
   "cell_type": "code",
   "execution_count": null,
   "id": "df0089ff",
   "metadata": {},
   "outputs": [],
   "source": [
    "USE TemporalSample\n",
    "GO"
   ]
  },
  {
   "cell_type": "raw",
   "id": "83cd54b4",
   "metadata": {},
   "source": [
    "如果存在資料表 Department 把它刪除。"
   ]
  },
  {
   "cell_type": "code",
   "execution_count": null,
   "id": "d38ad1a5",
   "metadata": {},
   "outputs": [],
   "source": [
    "DROP TABLE IF EXISTS [dbo].[Department]\n",
    "GO"
   ]
  },
  {
   "cell_type": "raw",
   "id": "82293d34",
   "metadata": {},
   "source": [
    "設定 ID 是主鍵。"
   ]
  },
  {
   "cell_type": "code",
   "execution_count": null,
   "id": "a598862c",
   "metadata": {},
   "outputs": [],
   "source": [
    "CREATE TABLE [dbo].[Department]\n",
    "( [ID]     INT           NOT NULL,\n",
    "  [Name]   NVARCHAR(20)  NOT NULL CONSTRAINT PK_Department PRIMARY KEY CLUSTERED ( [ID] )\n",
    ")\n",
    "GO"
   ]
  },
  {
   "cell_type": "raw",
   "id": "45f37d46",
   "metadata": {},
   "source": [
    "插入兩筆資料。"
   ]
  },
  {
   "cell_type": "code",
   "execution_count": null,
   "id": "2a3f2e8e",
   "metadata": {},
   "outputs": [],
   "source": [
    "INSERT INTO [dbo].[Department]\n",
    "VALUES   (1, 'MIS'),\n",
    "         (2, 'HR')\n",
    "GO"
   ]
  },
  {
   "cell_type": "raw",
   "id": "fe1bb950",
   "metadata": {},
   "source": [
    "看看是否有成功。"
   ]
  },
  {
   "cell_type": "code",
   "execution_count": null,
   "id": "40ba8275",
   "metadata": {},
   "outputs": [],
   "source": [
    "SELECT *\n",
    "FROM [dbo].[Department];\n",
    "GO"
   ]
  },
  {
   "cell_type": "markdown",
   "id": "c6868066",
   "metadata": {},
   "source": [
    "### 為資料表 Department 加上 Temporal Table 的功能。"
   ]
  },
  {
   "cell_type": "raw",
   "id": "ceeddc1a",
   "metadata": {},
   "source": [
    "Turn ON system versioning in Department table in two steps: \n",
    "step1 - add new period columns (HIDDEN) \n",
    "step2 - create default history table"
   ]
  },
  {
   "cell_type": "raw",
   "id": "a1c94e26",
   "metadata": {},
   "source": [
    "加入了 ValidFrom 及 ValidateTo 這 2 個欄位。 資料型態是 DATETIME2(2)。 且存放的是 UTC 的時間。\n",
    "\n",
    "ValidFrom: \n",
    "- GENERATED ALWAYS AS ROW START --> 資料列的起始效期\n",
    "- HIDDEN -->  SELECT * 看不到, 必須要 SELECT 個別欄位, 且指定 ValidFrom 才能看到 \n",
    "- CONSTRAINT DEFAULT --> 給予預設值 (for 現行資料及後續的新增資料)\n",
    "\n",
    "ValidTo: \n",
    "- GENERATED ALWAYS AS ROW END --> 資料列的結束效期\n",
    "- HIDDEN -->  SELECT * 看不到, 必須要 SELECT 個別欄位, 且指定 ValidTo 才能看到 \n",
    "- CONSTRAINT DEFAULT --> 給予預設值 (for 現行資料及後續的新增資料) (預設為最大的時間值)\n",
    "\n",
    "PERIOD FOR SYSTEM_TIME (ValidFrom, ValidTo): 代表要以 ValidFrom 與 ValidTo 這 2 個欄位，作為效期的起始及終止"
   ]
  },
  {
   "cell_type": "code",
   "execution_count": null,
   "id": "ea85438f",
   "metadata": {},
   "outputs": [],
   "source": [
    "ALTER TABLE [dbo].[Department] \n",
    "ADD\n",
    "  ValidFrom DATETIME2 (2) GENERATED ALWAYS AS ROW START HIDDEN  \n",
    "        CONSTRAINT DF_ValidFrom DEFAULT DATEADD(SECOND, -1, SYSUTCDATETIME()),\n",
    "  ValidTo DATETIME2 (2)  GENERATED ALWAYS AS ROW END HIDDEN   \n",
    "        CONSTRAINT DF_ValidTo DEFAULT '9999.12.31 23:59:59.99',\n",
    "  PERIOD FOR SYSTEM_TIME (ValidFrom, ValidTo)\n",
    "GO"
   ]
  },
  {
   "cell_type": "raw",
   "id": "202e785a",
   "metadata": {},
   "source": [
    "SET (SYSTEM_VERSIONING = ON (HISTORY_TABLE = dbo.DepartmentHistory)): 啟用 Temporal Table，其歷史資料檔為 DepartmentHistory。"
   ]
  },
  {
   "cell_type": "code",
   "execution_count": null,
   "id": "c2fada7c",
   "metadata": {},
   "outputs": [],
   "source": [
    "ALTER TABLE [dbo].[Department]   \n",
    "    SET (SYSTEM_VERSIONING = ON (HISTORY_TABLE = dbo.DepartmentHistory))\n",
    "GO"
   ]
  },
  {
   "cell_type": "raw",
   "id": "9f47b3fe",
   "metadata": {},
   "source": [
    "注意直接 SELECT * 是看不到 ValidFrom 及 ValidTo 這 2 個欄位的。"
   ]
  },
  {
   "cell_type": "code",
   "execution_count": null,
   "id": "c72a9021",
   "metadata": {},
   "outputs": [],
   "source": [
    "SELECT *\n",
    "FROM [dbo].[Department]\n",
    "GO"
   ]
  },
  {
   "cell_type": "raw",
   "id": "a82095af",
   "metadata": {},
   "source": [
    "要特別指定才能看到。"
   ]
  },
  {
   "cell_type": "code",
   "execution_count": null,
   "id": "1f8eedcb",
   "metadata": {},
   "outputs": [],
   "source": [
    "SELECT ID, Name, ValidFrom, ValidTo\n",
    "FROM [dbo].[Department]\n",
    "GO"
   ]
  },
  {
   "cell_type": "raw",
   "id": "cf713ff8",
   "metadata": {},
   "source": [
    "看一下 SSMS 物件總管視窗， 可以發現它的圖示有變， 並加上對應的標註。"
   ]
  },
  {
   "cell_type": "markdown",
   "id": "03a6af4a",
   "metadata": {},
   "source": [
    "# 建立新的資料表，同時加上 Temporal Table 的功能"
   ]
  },
  {
   "cell_type": "raw",
   "id": "81aaf5a5",
   "metadata": {},
   "source": [
    "建立 Temporal Table 的語法，大致與前面相同，不再贅述。"
   ]
  },
  {
   "cell_type": "raw",
   "id": "cd771f15",
   "metadata": {},
   "source": [
    "關於移除 Temporal Table 功能的部份，可以參以下的 ---- Code Block 1 ---- 的區塊。"
   ]
  },
  {
   "cell_type": "code",
   "execution_count": null,
   "id": "38f2d9f7",
   "metadata": {},
   "outputs": [],
   "source": [
    "USE TemporalSample\n",
    "GO\n",
    "\n",
    "---- Code Block 1 ---- (BEGIN)\n",
    "\n",
    "IF OBJECT_ID('dbo.Employee') IS NOT NULL\n",
    "   ALTER TABLE [dbo].[Employee] SET ( SYSTEM_VERSIONING = OFF) \n",
    "GO\n",
    "\n",
    "DROP TABLE IF EXISTS [dbo].[Employee]\n",
    "GO\n",
    "\n",
    "DROP TABLE IF EXISTS [dbo].[EmployeeHistory]\n",
    "GO\n",
    "\n",
    "---- Code Block 1 ---- (END)\n",
    " \n",
    "\n",
    "CREATE TABLE Employee \n",
    "(  \n",
    "   [ID]         INT NOT NULL  PRIMARY KEY CLUSTERED,\n",
    "   [Name]       NVARCHAR(50)  NOT NULL,\n",
    "   [Position]   NVARCHAR(50)  NOT NULL,\n",
    "   [DeptID]     INT           NOT NULL,\n",
    "   [Address]    NVARCHAR(100) NOT NULL,\n",
    "   [AnnualSalary] DECIMAL(10,2) NOT NULL,\n",
    "   [ValidFrom]  DATETIME2 (2) GENERATED ALWAYS AS ROW START,\n",
    "   [ValidTo]    DATETIME2 (2) GENERATED ALWAYS AS ROW END,\n",
    "   PERIOD FOR SYSTEM_TIME (ValidFrom, ValidTo)\n",
    ")  \n",
    "WITH (SYSTEM_VERSIONING = ON (HISTORY_TABLE = dbo.EmployeeHistory))\n",
    "GO"
   ]
  },
  {
   "cell_type": "raw",
   "id": "dde205ef",
   "metadata": {},
   "source": [
    "看一下 SSMS 物件總管視窗，可以發現它的圖示有變，並加上對應的標註。"
   ]
  },
  {
   "cell_type": "raw",
   "id": "a68baa74",
   "metadata": {},
   "source": [
    "試一下移除 Temporal Table 功能的程式段。"
   ]
  },
  {
   "cell_type": "code",
   "execution_count": null,
   "id": "8d284da7",
   "metadata": {},
   "outputs": [],
   "source": [
    "IF OBJECT_ID('dbo.Employee') IS NOT NULL\n",
    "   ALTER TABLE [dbo].[Employee] SET ( SYSTEM_VERSIONING = OFF)\n",
    "GO"
   ]
  },
  {
   "cell_type": "raw",
   "id": "ce90c19e",
   "metadata": {},
   "source": [
    "看一下 SSMS 物件總管視窗， Employee 與 EmployeeHistory 均成為一般的 table。"
   ]
  },
  {
   "cell_type": "raw",
   "id": "528566b8",
   "metadata": {},
   "source": [
    "為了後續的測試， 還是先回復一下 Temporal Table 的功能。"
   ]
  },
  {
   "cell_type": "code",
   "execution_count": null,
   "id": "999d076d",
   "metadata": {},
   "outputs": [],
   "source": [
    "ALTER TABLE [dbo].[Employee]  \n",
    "    SET (SYSTEM_VERSIONING = ON (HISTORY_TABLE = dbo.EmployeeHistory))\n",
    "GO"
   ]
  },
  {
   "cell_type": "markdown",
   "id": "d214bae7",
   "metadata": {},
   "source": [
    "# 新增 2 筆資料"
   ]
  },
  {
   "cell_type": "code",
   "execution_count": null,
   "id": "fc3b9b9b",
   "metadata": {},
   "outputs": [],
   "source": [
    "USE [TemporalSample]\n",
    "GO"
   ]
  },
  {
   "cell_type": "raw",
   "id": "c18c2956",
   "metadata": {},
   "source": [
    "在資料表 Employee 新增兩筆資料。"
   ]
  },
  {
   "cell_type": "code",
   "execution_count": null,
   "id": "4b21aa4a",
   "metadata": {},
   "outputs": [],
   "source": [
    "INSERT INTO [dbo].[Employee]\n",
    "   ([ID], [Name], [Position], [DeptID], [Address], [AnnualSalary] )\n",
    "VALUES\n",
    "   (1, 'jasper', 'engineer', 1, 'taipei', 1500),\n",
    "   (2, 'joseph', 'manager', 1, 'taipei',  3000)\n",
    "GO"
   ]
  },
  {
   "cell_type": "raw",
   "id": "ce5d88c9",
   "metadata": {},
   "source": [
    "查一下資料，Employee 有 2 筆資料，其 ValidTo 的內容為 DATETIME2 的最大值。但 EmployeeHistory 是沒有資料的，因為 EmployeeHistory 是存放修改前的資料，但 INSERT 的動作，並沒有修改前的資料。"
   ]
  },
  {
   "cell_type": "code",
   "execution_count": null,
   "id": "bf9e6246",
   "metadata": {},
   "outputs": [],
   "source": [
    "SELECT *\n",
    "FROM [dbo].[Employee]\n",
    "GO\n",
    "\n",
    "SELECT *\n",
    "FROM [dbo].[EmployeeHistory]\n",
    "GO"
   ]
  },
  {
   "cell_type": "markdown",
   "id": "0f62972b",
   "metadata": {},
   "source": [
    "# 修改 1 筆資料"
   ]
  },
  {
   "cell_type": "code",
   "execution_count": null,
   "id": "b1d2fd2c",
   "metadata": {},
   "outputs": [],
   "source": [
    "USE TemporalSample\n",
    "GO\n",
    "\n",
    "UPDATE A\n",
    "SET A.[AnnualSalary] = 4000\n",
    "FROM [dbo].[Employee] A\n",
    "WHERE A.[ID] = 2\n",
    "GO"
   ]
  },
  {
   "cell_type": "raw",
   "id": "bdf1dcff",
   "metadata": {},
   "source": [
    "可以發現，EmployeeHistory 保留了修改前的資料內容，最新的資料，還是在 Employee 資料表。"
   ]
  },
  {
   "cell_type": "markdown",
   "id": "ad724511",
   "metadata": {},
   "source": [
    "# 刪除 1 筆資料"
   ]
  },
  {
   "cell_type": "code",
   "execution_count": null,
   "id": "bcd6b5fd",
   "metadata": {},
   "outputs": [],
   "source": [
    "USE TemporalSample\n",
    "GO\n",
    "\n",
    "DELETE A\n",
    "FROM [dbo].[Employee] A\n",
    "WHERE A.[ID] = 2\n",
    "GO"
   ]
  },
  {
   "cell_type": "raw",
   "id": "2a488bb5",
   "metadata": {},
   "source": [
    "可以發現，EmployeeHistory 保留了被刪除的資料內容，該筆的 ValidTo 欄位，代表的是刪除的時間點。"
   ]
  },
  {
   "cell_type": "markdown",
   "id": "25a0c008",
   "metadata": {},
   "source": [
    "# 查 Temporal Table 的一些語法"
   ]
  },
  {
   "cell_type": "raw",
   "id": "954335a2",
   "metadata": {},
   "source": [
    "當然可以直接查 EmployeeHistory 資料表，但 SQL Server 也提供了由 Employee 查詢的方式。"
   ]
  },
  {
   "cell_type": "code",
   "execution_count": null,
   "id": "4fbfc11c",
   "metadata": {},
   "outputs": [],
   "source": [
    "USE [TemporalSample]\n",
    "GO"
   ]
  },
  {
   "cell_type": "raw",
   "id": "d3e75f87",
   "metadata": {},
   "source": [
    "ALL : 查出全部。"
   ]
  },
  {
   "cell_type": "code",
   "execution_count": null,
   "id": "2dbf7d8c",
   "metadata": {},
   "outputs": [],
   "source": [
    "SELECT [ID],\n",
    "       [Name],\n",
    "       [Position],\n",
    "       [DeptID],\n",
    "       [Address],\n",
    "       [AnnualSalary],\n",
    "       [ValidFrom],\n",
    "       [ValidTo],\n",
    "  FROM [dbo].[Employee]\n",
    "\n",
    "FOR SYSTEM_TIME ALL ORDER BY [ValidFrom]\n",
    "GO"
   ]
  },
  {
   "cell_type": "raw",
   "id": "c6505053",
   "metadata": {},
   "source": [
    "BETWEEN ... AND ....; FROM  ... TO ... 說明: 適用於想要取歷史與最新資料的狀況。只要資料的起始時間至結束時間，與指定的區間條有 overlap 即符合條件。所以只查出 2 筆。"
   ]
  },
  {
   "cell_type": "code",
   "execution_count": null,
   "id": "75f96355",
   "metadata": {},
   "outputs": [],
   "source": [
    "SELECT [ID],\n",
    "       [Name],\n",
    "       [Position],\n",
    "       [DeptID],\n",
    "       [Address],\n",
    "       [AnnualSalary],\n",
    "       [ValidFrom],\n",
    "       [ValidTo],\n",
    "  FROM [dbo].[Employee]\n",
    "\n",
    "FOR SYSTEM_TIME BETWEEN '2017-12-07 T06:35:00' AND '2017-12-08 T00:00:00'\n",
    "GO"
   ]
  },
  {
   "cell_type": "code",
   "execution_count": null,
   "id": "1c5a177a",
   "metadata": {},
   "outputs": [],
   "source": [
    "SELECT [ID],\n",
    "       [Name],\n",
    "       [Position],\n",
    "       [DeptID],\n",
    "       [Address],\n",
    "       [AnnualSalary],\n",
    "       [ValidFrom],\n",
    "       [ValidTo],\n",
    "  FROM [dbo].[Employee]\n",
    "\n",
    "FOR SYSTEM_TIME FROM '2017-12-07 T06:35:00' TO '2017-12-08 T00:00:00'\n",
    "GO"
   ]
  },
  {
   "cell_type": "raw",
   "id": "1bd6cad5",
   "metadata": {},
   "source": [
    "CONTAINED IN: 適用於想要取歷史資料的狀況。只要資料的起始時間至結束時間，必須完全落在指定的區間條，才符合條件。"
   ]
  },
  {
   "cell_type": "raw",
   "id": "c7788371",
   "metadata": {},
   "source": [
    "回傳 0 筆資料"
   ]
  },
  {
   "cell_type": "code",
   "execution_count": null,
   "id": "49697ec8",
   "metadata": {},
   "outputs": [],
   "source": [
    "SELECT [ID],\n",
    "       [Name],\n",
    "       [Position],\n",
    "       [DeptID],\n",
    "       [Address],\n",
    "       [AnnualSalary],\n",
    "       [ValidFrom],\n",
    "       [ValidTo],\n",
    "  FROM [dbo].[Employee]\n",
    "\n",
    "FOR SYSTEM_TIME CONTAINED IN ('2017-12-07 T06:35:00','2017-12-08 T00:00:00')\n",
    "GO"
   ]
  },
  {
   "cell_type": "raw",
   "id": "7f66f93c",
   "metadata": {},
   "source": [
    "回傳 2 筆資料"
   ]
  },
  {
   "cell_type": "code",
   "execution_count": null,
   "id": "7843d326",
   "metadata": {},
   "outputs": [],
   "source": [
    "SELECT [ID],\n",
    "       [Name],\n",
    "       [Position],\n",
    "       [DeptID],\n",
    "       [Address],\n",
    "       [AnnualSalary],\n",
    "       [ValidFrom],\n",
    "       [ValidTo],\n",
    "  FROM [dbo].[Employee]\n",
    "\n",
    "FOR SYSTEM_TIME CONTAINED IN ('2017-12-07 T00:00:00','2017-12-08 T00:00:00')\n",
    "GO"
   ]
  },
  {
   "cell_type": "raw",
   "id": "cf6c054a",
   "metadata": {},
   "source": [
    "AS OF: 資料列起始時間 <= 查詢修件 < 資料列結束時間"
   ]
  },
  {
   "cell_type": "code",
   "execution_count": null,
   "id": "33dc14fe",
   "metadata": {},
   "outputs": [],
   "source": [
    "SELECT [ID],\n",
    "       [Name],\n",
    "       [Position],\n",
    "       [DeptID],\n",
    "       [Address],\n",
    "       [AnnualSalary],\n",
    "       [ValidFrom],\n",
    "       [ValidTo],\n",
    "  FROM [dbo].[Employee]\n",
    "\n",
    "FOR SYSTEM_TIME AS OF '2017-12-07 06:33:00.00'\n",
    "GO"
   ]
  },
  {
   "cell_type": "markdown",
   "id": "99a2ac1b",
   "metadata": {},
   "source": [
    "### 範例01-修復資料列層級資料損毀"
   ]
  },
  {
   "cell_type": "markdown",
   "id": "e5f73ff0",
   "metadata": {},
   "source": [
    "參考文章: https://docs.microsoft.com/zh-tw/sql/relational-databases/tables/temporal-table-usage-scenarios?view=sql-server-ver16"
   ]
  },
  {
   "cell_type": "raw",
   "id": "9e8eee70",
   "metadata": {},
   "source": [
    "您可以依靠系統建立版本的時態表中的歷程記錄資料，來快速將個別資料列修復為先前所擷取的任何狀態。當您能夠找出受影響的資料列和/或知道不想要的資料變更時間時，時態表的這個屬性很有用，因此您可以有效率地執行修復，而不需要處理備份。\n",
    "\n",
    "這種方法有數個優點：\n",
    "- 您可以精確地控制修復的範圍。不會影響的記錄需要保持最新狀態，這通常是重要的需求。\n",
    "- 作業有效率，而且資料庫會使用資料讓所有工作負載保持線上狀態。\n",
    "- 修復作業本身已進行版本設定。您擁有修復作業本身的稽核線索，因此如有必要，您可以於稍後針對發生的情況進行分析。\n",
    "- 修復動作可以相對輕鬆地進行自動化。 下一個程式碼範例顯示預存程式，此預存程式會針對資料稽核案例中使用的資料表 Employee 執行資料修復。"
   ]
  },
  {
   "cell_type": "raw",
   "id": "61f6dd89",
   "metadata": {},
   "source": [
    "創建資料表 Employee。"
   ]
  },
  {
   "cell_type": "code",
   "execution_count": null,
   "id": "203374a7",
   "metadata": {},
   "outputs": [],
   "source": [
    "CREATE TABLE Employee\n",
    "(\n",
    "  [EmployeeID] int NOT NULL PRIMARY KEY CLUSTERED,\n",
    "  [Name] nvarchar(100) NOT NULL,\n",
    "  [Position] varchar(100) NOT NULL,\n",
    "  [Department] varchar(100) NOT NULL,\n",
    "  [Address] nvarchar(1024) NOT NULL,\n",
    "  [AnnualSalary] decimal(10,2) NOT NULL,\n",
    "  [ValidFrom] datetime2(2) GENERATED ALWAYS AS ROW START,\n",
    "  [ValidTo] datetime2(2) GENERATED ALWAYS AS ROW END,\n",
    "  PERIOD FOR SYSTEM_TIME (ValidFrom, ValidTo)\n",
    " )\n",
    " WITH (SYSTEM_VERSIONING = ON (HISTORY_TABLE = dbo.EmployeeHistory))"
   ]
  },
  {
   "cell_type": "raw",
   "id": "bc1fb492",
   "metadata": {},
   "source": [
    "新增預存程序。"
   ]
  },
  {
   "cell_type": "code",
   "execution_count": null,
   "id": "1fcc319f",
   "metadata": {},
   "outputs": [],
   "source": [
    "DROP PROCEDURE IF EXISTS RepairEmployeeRecord\n",
    "GO\n",
    "\n",
    "CREATE PROCEDURE RepairEmployeeRecord\n",
    "    @EmployeeID INT,\n",
    "    @versionNumber INT = 1\n",
    "AS\n",
    "\n",
    "WITH History\n",
    "AS\n",
    "(\n",
    "        /* Order historical rows by their age in DESC order*/\n",
    "        SELECT ROW_NUMBER () OVER (PARTITION BY EmployeeID ORDER BY [ValidTo] DESC) AS RN, *\n",
    "        FROM Employee FOR SYSTEM_TIME ALL WHERE YEAR(ValidTo) < 9999 AND Employee.EmployeeID = @EmployeeID\n",
    ")\n",
    "\n",
    "/*Update current row by using N-th row version from history (default is 1 - i.e. last version)*/\n",
    "UPDATE Employee\n",
    "    SET [Position] = H.[Position], [Department] = H.Department, [Address] = H.[Address], AnnualSalary = H.AnnualSalary\n",
    "    FROM Employee E JOIN History H ON E.EmployeeID = H.EmployeeID AND RN = @versionNumber\n",
    "    WHERE E.EmployeeID = @EmployeeID"
   ]
  },
  {
   "cell_type": "raw",
   "id": "3f8b882a",
   "metadata": {},
   "source": [
    "將 EmployeeID = 2 的紀錄改回前一個版本"
   ]
  },
  {
   "cell_type": "code",
   "execution_count": null,
   "id": "650c8ed6",
   "metadata": {},
   "outputs": [],
   "source": [
    "EXEC RepairEmployeeRecord @EmployeeID = 2, @versionNumber = 1"
   ]
  }
 ],
 "metadata": {
  "kernelspec": {
   "display_name": "Python 3",
   "language": "python",
   "name": "python3"
  },
  "language_info": {
   "codemirror_mode": {
    "name": "ipython",
    "version": 3
   },
   "file_extension": ".py",
   "mimetype": "text/x-python",
   "name": "python",
   "nbconvert_exporter": "python",
   "pygments_lexer": "ipython3",
   "version": "3.8.10"
  },
  "vscode": {
   "interpreter": {
    "hash": "570feb405e2e27c949193ac68f46852414290d515b0ba6e5d90d076ed2284471"
   }
  }
 },
 "nbformat": 4,
 "nbformat_minor": 5
}
