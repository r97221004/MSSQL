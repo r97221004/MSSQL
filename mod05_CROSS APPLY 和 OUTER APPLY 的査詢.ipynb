{
 "cells": [
  {
   "cell_type": "markdown",
   "id": "818b6ec3",
   "metadata": {},
   "source": [
    "# APPLY 與 JOIN 的差別"
   ]
  },
  {
   "cell_type": "raw",
   "id": "cf8b95b8",
   "metadata": {},
   "source": [
    "你可能知道 SQL Server 中的 JOIN 作業用於聯結兩個或多個資料表。但是在 SQL Server 中，不能使用 JOIN 作業將資料表與資料表值函式的輸出聯結起來。如果你沒有聽說過資料表值函數，這些函式是以資料表的形式傳回資料。為了聯結兩個資料表運算式，SQL Server 2005 引入了 APPLY 運算子。在這個 mod 中我們將學習 APPLY 運算子與一般 JOIN 有何不同。"
   ]
  },
  {
   "cell_type": "markdown",
   "id": "d62f7c8d",
   "metadata": {},
   "source": [
    "# 關於 CROSS APPLY 和 OUTER APPLY"
   ]
  },
  {
   "cell_type": "raw",
   "id": "89ee131f",
   "metadata": {},
   "source": [
    "SQL Server 的 APPLY 運算子有兩種變體：CROSS APPLY 和 OUTER APPLY：\n",
    "\n",
    "CROSS APPLY 運算子僅傳回左邊資料表運算式（在其最終輸出中）中與右邊資料表運算式符合的列。\n",
    "因此，CROSS APPLY 類似於 INNER JOIN，或者更準確地說，類似於具有隱含聯結條件 1 = 1 的相關子査詢的 CROSS JOIN。\n",
    "\n",
    "OUTER APPLY 運算子傳回左邊資料表運算式中的所有列，無論其與右邊資料表運算式是否符合。對於右邊資料表運算式中沒有對應符合項目的列，它在右邊資料表運算式的欄中傳回 NULL 值。因此，OUTER APPLY 相當於 LEFT OUTER JOIN。雖然可以使用普通 JOIN 編寫相同的査詢，但當右邊有一個資料表值運算式，並且希望對左邊資料表值運算式中的每一列計算該資料表值運算式時，就需要使用 APPLY。此外，在某些情况下，使用 APPLY 運算子可以提高査詢效能。\n",
    "\n",
    "讓我們通過一些範例進一步探討 APPLY 運算子。"
   ]
  },
  {
   "cell_type": "markdown",
   "id": "5d7581fd",
   "metadata": {},
   "source": [
    "### 範例01"
   ]
  },
  {
   "cell_type": "raw",
   "id": "2e331f6a",
   "metadata": {},
   "source": [
    "建立資料表 Department。"
   ]
  },
  {
   "cell_type": "code",
   "execution_count": null,
   "id": "bbc7b795",
   "metadata": {},
   "outputs": [],
   "source": [
    "CREATE TABLE Department (\n",
    "    DepartmentID INT PRIMARY KEY IDENTITY (1, 1),\n",
    "    Name VARCHAR(250) NOT NULL\n",
    ")"
   ]
  },
  {
   "cell_type": "raw",
   "id": "6c68e6ab",
   "metadata": {},
   "source": [
    "建立資料表 Employee。"
   ]
  },
  {
   "cell_type": "code",
   "execution_count": null,
   "id": "8770e811",
   "metadata": {},
   "outputs": [],
   "source": [
    "CREATE TABLE Employee (\n",
    "    EmployeeID INT PRIMARY KEY IDENTITY (1, 1),\n",
    "    FirstName VARCHAR(250) NOT NULL,\n",
    "    LastName VARCHAR(250) NOT NULL,\n",
    "    DepartmentID NOT NULL\n",
    ")"
   ]
  },
  {
   "cell_type": "raw",
   "id": "e60b8964",
   "metadata": {},
   "source": [
    "建立範例資料。"
   ]
  },
  {
   "cell_type": "code",
   "execution_count": null,
   "id": "3f5ff030",
   "metadata": {},
   "outputs": [],
   "source": [
    "INSERT [Department] ([DepartmentID], [Name])  \n",
    "VALUES (1, N'Engineering') \n",
    "INSERT [Department] ([DepartmentID], [Name])  \n",
    "VALUES (2, N'Administration') \n",
    "INSERT [Department] ([DepartmentID], [Name])  \n",
    "VALUES (3, N'Sales') \n",
    "INSERT [Department] ([DepartmentID], [Name])  \n",
    "VALUES (4, N'Marketing') \n",
    "INSERT [Department] ([DepartmentID], [Name])  \n",
    "VALUES (5, N'Finance') \n",
    "GO \n",
    " \n",
    "INSERT [Employee] ([EmployeeID], [FirstName], [LastName], [DepartmentID]) \n",
    "VALUES (1, N'Orlando', N'Gee', 1 ) \n",
    "INSERT [Employee] ([EmployeeID], [FirstName], [LastName], [DepartmentID]) \n",
    "VALUES (2, N'Keith', N'Harris', 2 ) \n",
    "INSERT [Employee] ([EmployeeID], [FirstName], [LastName], [DepartmentID]) \n",
    "VALUES (3, N'Donna', N'Carreras', 3 ) \n",
    "INSERT [Employee] ([EmployeeID], [FirstName], [LastName], [DepartmentID]) \n",
    "VALUES (4, N'Janet', N'Gates', 3 ) "
   ]
  },
  {
   "cell_type": "markdown",
   "id": "80abc1bf",
   "metadata": {},
   "source": [
    "##### CROSS APPLY 與 INNER JOIN 的比較"
   ]
  },
  {
   "cell_type": "raw",
   "id": "ee5191b9",
   "metadata": {},
   "source": [
    "這是一個由兩部分組成的査詢：第一個査詢從 Department 資料表中選取資料，並使用 CROSS APPLY 為 Department 資料表的每筆記錄評估 Employee 資料表；第二個査詢只是將 Department 資料表與 Employee 資料表聯結起來，以產生相同的結果："
   ]
  },
  {
   "cell_type": "code",
   "execution_count": null,
   "id": "1e1cc0ba",
   "metadata": {},
   "outputs": [],
   "source": [
    "SELECT * FROM Department D\n",
    "CROSS APPLY\n",
    "   (\n",
    "       SELECT * FROM Employee E \n",
    "       WHERE E.DepartmentID = D.DepartmentID\n",
    "   ) A"
   ]
  },
  {
   "cell_type": "markdown",
   "id": "9e614d72",
   "metadata": {},
   "source": [
    "### 範例01"
   ]
  },
  {
   "cell_type": "code",
   "execution_count": null,
   "id": "99de6f7d",
   "metadata": {},
   "outputs": [],
   "source": [
    "SELECT aa.serial_id,\n",
    "                [user],\n",
    "                district_prosecutors_serial_id,\n",
    "                hp.serial_id hr_prosecution_serial_id,\n",
    "                t.serial_id  ac_group_serial_id,\n",
    "                t.[name]     ac_group_name\n",
    "            FROM   ac_account aa\n",
    "                JOIN hr_prosecution hp\n",
    "                    ON hp.serial_id = aa.owner_serial_id\n",
    "                OUTER apply (SELECT TOP 1 ag.serial_id,\n",
    "                                            ag.[name]\n",
    "                                FROM   ac_member am\n",
    "                                    JOIN ac_group ag\n",
    "                                        ON ag.serial_id = am.ac_group_serial_id\n",
    "                                WHERE  am.ac_account_serial_id = aa.serial_id\n",
    "                                ORDER  BY am.serial_id DESC) t\n",
    "            WHERE  \n",
    "                ( aa.sys <> 'Y' OR aa.sys IS NULL )   \n",
    "            ORDER  BY aa.serial_id "
   ]
  }
 ],
 "metadata": {
  "kernelspec": {
   "display_name": "Python 3",
   "language": "python",
   "name": "python3"
  },
  "language_info": {
   "codemirror_mode": {
    "name": "ipython",
    "version": 3
   },
   "file_extension": ".py",
   "mimetype": "text/x-python",
   "name": "python",
   "nbconvert_exporter": "python",
   "pygments_lexer": "ipython3",
   "version": "3.8.10"
  }
 },
 "nbformat": 4,
 "nbformat_minor": 5
}
