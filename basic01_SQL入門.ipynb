{
 "cells": [
  {
   "cell_type": "markdown",
   "id": "0bf0d5c7",
   "metadata": {},
   "source": [
    "# SQL入門"
   ]
  },
  {
   "cell_type": "raw",
   "id": "ef0b2bb9",
   "metadata": {},
   "source": [
    "SQL 用於與數據庫通信，因此在開始嘗試 SQL 之前，您需要首先訪問數據庫系統。\n",
    "\n",
    "一邊使用一邊學習。學習 Sql 語言一定要一邊使用一邊學習，一定要多做實驗，由於 Sql 語言的實驗比較容易完成，結果也比較直觀，所以大多數人借助各種實驗也能快速掌握 Sql 語言。\n",
    "\n",
    "注意： Web SQL 數據庫允許您創建 SQL 數據庫並在客戶端進行 SQL 調用。它基於流行的開源 SQLite 引擎。Chrome，Opera 和 Safari 瀏覽器支持Web SQL。"
   ]
  },
  {
   "cell_type": "markdown",
   "id": "9b41b77d",
   "metadata": {},
   "source": [
    "# 什麽是關係數據庫"
   ]
  },
  {
   "cell_type": "raw",
   "id": "5596019a",
   "metadata": {},
   "source": [
    "關系數據庫是一種數據庫，分為稱為表的邏輯單元，其中表在數據庫中相互關聯。關系數據庫允許將數據分解為邏輯的，較小的和可管理的單元，以便於維護和性能。\n",
    "\n",
    "表通過關系數據庫系統中的公共鍵或字段相互關聯，這就是為什麽即使所需的數據可能存在於多個表中，您也可以輕松地將多個表連接在一起以使用單個查詢獲得組合數據集的原因。\n",
    "\n",
    "注意： SQL 於 1986 年成為美國國家標準協會（ANSI）的標準，並於 1987 年成為國際標準化組織（ISO）的標準。僅管如此，大多數 SQL 代碼未經調整就不能完全移植到不同的數據庫系統中。"
   ]
  },
  {
   "cell_type": "markdown",
   "id": "b74596ca",
   "metadata": {},
   "source": [
    "# 設置練習 SQL 的工作環境"
   ]
  },
  {
   "cell_type": "raw",
   "id": "562a5ce0",
   "metadata": {},
   "source": [
    "如果您的系統上尚未安裝 DBMS（數據庫管理系統），則有幾個選項可供選擇。您可以安裝免費的開源 DBMS。MySQL 是最受歡迎和廣泛支持的開源數據庫管理系統。它非常易於下載和使用，並且可用於 Windows 和 Linux（或UNIX）操作系統。您可以從這裏免費下載。"
   ]
  },
  {
   "cell_type": "markdown",
   "id": "66a5416f",
   "metadata": {},
   "source": [
    "網址: https://dev.mysql.com/downloads/mysql/"
   ]
  },
  {
   "cell_type": "raw",
   "id": "530e2b79",
   "metadata": {},
   "source": [
    "您也可以安裝 SQL Server Express。它是 Microsoft SQL Server 的免費版本，最多可存儲 10GB 的數據庫。您可以從此處下載快速版本。"
   ]
  },
  {
   "cell_type": "markdown",
   "id": "12bd2166",
   "metadata": {},
   "source": [
    "網址: https://www.microsoft.com/zh-cn/download/details.aspx?id=30438"
   ]
  },
  {
   "cell_type": "raw",
   "id": "87177081",
   "metadata": {},
   "source": [
    "另外，如果您打算使用 PHP 和 MySQL 開發應用程序，則可以安裝 WampServer 或 XAMPP。WampServer 是Windows Web 開發環境。它允許您使用Apache2，PHP 和 MySQL 數據庫創建 Web 應用程序。它還將提供 MySQL 管理工具 PhpMyAdmin，以使用 Web 瀏覽器輕松管理數據庫。您可以從這裏下載。"
   ]
  },
  {
   "cell_type": "markdown",
   "id": "4cc935f1",
   "metadata": {},
   "source": [
    "網址: http://www.wampserver.com/en/"
   ]
  }
 ],
 "metadata": {
  "kernelspec": {
   "display_name": "Python 3",
   "language": "python",
   "name": "python3"
  },
  "language_info": {
   "codemirror_mode": {
    "name": "ipython",
    "version": 3
   },
   "file_extension": ".py",
   "mimetype": "text/x-python",
   "name": "python",
   "nbconvert_exporter": "python",
   "pygments_lexer": "ipython3",
   "version": "3.8.10"
  }
 },
 "nbformat": 4,
 "nbformat_minor": 5
}
